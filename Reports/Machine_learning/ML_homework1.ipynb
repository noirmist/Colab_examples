{
  "nbformat": 4,
  "nbformat_minor": 0,
  "metadata": {
    "colab": {
      "name": "ML_homework1.ipynb",
      "version": "0.3.2",
      "provenance": [],
      "collapsed_sections": []
    },
    "kernelspec": {
      "name": "python3",
      "display_name": "Python 3"
    }
  },
  "cells": [
    {
      "metadata": {
        "id": "5KVcC4zVmAUn",
        "colab_type": "text"
      },
      "cell_type": "markdown",
      "source": [
        "$$\\quad$$\n",
        "\n",
        "이름: 최정우\n",
        "\n",
        "학번: M2018076\n",
        "\n",
        "Colab link: http://bit.ly/2YWnklZ"
      ]
    },
    {
      "metadata": {
        "id": "1ikOeQmJpRvk",
        "colab_type": "text"
      },
      "cell_type": "markdown",
      "source": [
        "# 1. [linear algebra; 10p] \n",
        "## 훈련집합이 $x_1 = (2, 1)^T, x_1 = (2, 4)^T, x_1 = (4, 1)^T, x_1 = (4, 3)^T$ 이다.\n",
        "### A. 훈련집합을 축 $(0,1)^T$과 축 $(1,1)^T$으로 투영하고, 각 축에 투영된 훈련집합의 분산들을 구하세요.\n",
        "\n"
      ]
    },
    {
      "metadata": {
        "id": "PAW_1pTapOuP",
        "colab_type": "code",
        "outputId": "edea8692-c160-481b-8fb4-9bf54de1b06a",
        "colab": {
          "base_uri": "https://localhost:8080/",
          "height": 168
        }
      },
      "cell_type": "code",
      "source": [
        "import numpy as np\n",
        "import math\n",
        "\n",
        "# 훈련집합 정의\n",
        "x1 = np.array([[2., 1.], [2., 4.], [4., 1.], [4., 3.]]).T\n",
        "\n",
        "print(\"x1:\\n\", x1, \"\\n\")\n",
        "\n",
        "# 축 정의\n",
        "ax1 = np.array([0.,1.]).T\n",
        "ax2 = np.array([1./math.sqrt(2),1./math.sqrt(2)]).T\n",
        "\n",
        "# 각 축에대해 투영\n",
        "proj1 = np.dot(ax1, x1)\n",
        "proj2 = np.dot(ax2, x1)\n",
        "\n",
        "# 투영된 훈련집합의 분산 계산\n",
        "var1 = np.var(proj1,ddof=0)\n",
        "var2 = np.var(proj2,ddof=0)\n",
        "\n",
        "print(\"Project to axis 1:\", proj1, \"\\nVar1:\", var1, \"\\n\")\n",
        "print(\"Project to axis 2:\", proj2, \"\\nVar2:\", var2)"
      ],
      "execution_count": 0,
      "outputs": [
        {
          "output_type": "stream",
          "text": [
            "x1:\n",
            " [[2. 2. 4. 4.]\n",
            " [1. 4. 1. 3.]] \n",
            "\n",
            "Project to axis 1: [1. 4. 1. 3.] \n",
            "Var1: 1.6875 \n",
            "\n",
            "Project to axis 2: [2.12132034 4.24264069 3.53553391 4.94974747] \n",
            "Var2: 1.0937499999999996\n"
          ],
          "name": "stdout"
        }
      ]
    },
    {
      "metadata": {
        "id": "j21YLso_qkki",
        "colab_type": "text"
      },
      "cell_type": "markdown",
      "source": [
        "### B. 해당 훈련집합의 공분산 행렬을 구하세요.\n"
      ]
    },
    {
      "metadata": {
        "id": "Ez5DNM6qu0_Z",
        "colab_type": "code",
        "outputId": "d4d4d664-3069-4f3b-c279-7783c03146c0",
        "colab": {
          "base_uri": "https://localhost:8080/",
          "height": 67
        }
      },
      "cell_type": "code",
      "source": [
        "# 공분산 행렬 계산\n",
        "cov_x1 = np.cov(x1,ddof=0)\n",
        "print(\"Covariance of x1:\\n\", cov_x1)"
      ],
      "execution_count": 0,
      "outputs": [
        {
          "output_type": "stream",
          "text": [
            "Covariance of x1:\n",
            " [[ 1.     -0.25  ]\n",
            " [-0.25    1.6875]]\n"
          ],
          "name": "stdout"
        }
      ]
    },
    {
      "metadata": {
        "id": "AvedJnSRvAYR",
        "colab_type": "text"
      },
      "cell_type": "markdown",
      "source": [
        "### C. 구한 공분산 행렬을 고유분해를 구하세요.\n"
      ]
    },
    {
      "metadata": {
        "id": "-o_8dqrhvwLd",
        "colab_type": "code",
        "outputId": "8daf4254-06a5-43cf-8670-eeff6a04b5a0",
        "colab": {
          "base_uri": "https://localhost:8080/",
          "height": 101
        }
      },
      "cell_type": "code",
      "source": [
        "# 공분산 행렬의 Eigendecomposition\n",
        "w, v = np.linalg.eig(cov_x1)\n",
        "print(\"Eigenvalues:\\n\", w)\n",
        "print(\"Eigenvectors:\\n\",v)"
      ],
      "execution_count": 0,
      "outputs": [
        {
          "output_type": "stream",
          "text": [
            "Eigenvalues:\n",
            " [0.91870405 1.76879595]\n",
            "Eigenvectors:\n",
            " [[-0.95098267  0.30924417]\n",
            " [-0.30924417 -0.95098267]]\n"
          ],
          "name": "stdout"
        }
      ]
    },
    {
      "metadata": {
        "id": "0kCF-yhRvyhU",
        "colab_type": "text"
      },
      "cell_type": "markdown",
      "source": [
        "### D. 고유분해의 가장 큰 고유값을 가지는 고유벡터를 축으로 훈련집합을 투영한 결과를 그리고, 투영된 훈련 집합의 분산을 구하세요.\n"
      ]
    },
    {
      "metadata": {
        "id": "UFRq0hvUv_hA",
        "colab_type": "code",
        "outputId": "8fff4f38-f56f-4883-f806-22168744e053",
        "colab": {
          "base_uri": "https://localhost:8080/",
          "height": 414
        }
      },
      "cell_type": "code",
      "source": [
        "large_vec = v[:,np.argmax(w)] # 가장 큰 고유값을 가지는 고유벡터\n",
        "\n",
        "# 훈련집합 투영\n",
        "scalar_proj = np.dot(large_vec, x1)\n",
        "print(\"투영된 훈련집합\\n\", scalar_proj)    \n",
        "\n",
        "#직선 또는 2차원 평면에 값을 점으로 찍기\n",
        "import matplotlib.pyplot as plt\n",
        "fig = plt.figure()\n",
        "plt.plot(scalar_proj, [0,0,0,0], 'ro-')\n",
        "plt.show()\n",
        "\n",
        "# 투영된 훈련집합의 분산계산\n",
        "print(\"투영된 훈련집합의 분산\\n\", np.var(scalar_proj,ddof=0))"
      ],
      "execution_count": 0,
      "outputs": [
        {
          "output_type": "stream",
          "text": [
            "투영된 훈련집합\n",
            " [-0.33249433 -3.18544234  0.28599402 -1.61597133]\n"
          ],
          "name": "stdout"
        },
        {
          "output_type": "display_data",
          "data": {
            "image/png": "[encoded data removed]",
            "text/plain": [
              "<Figure size 576x396 with 1 Axes>"
            ]
          },
          "metadata": {
            "tags": []
          }
        },
        {
          "output_type": "stream",
          "text": [
            "투영된 훈련집합의 분산\n",
            " 1.7687959533979825\n"
          ],
          "name": "stdout"
        }
      ]
    },
    {
      "metadata": {
        "id": "lGcrrX1VwAF2",
        "colab_type": "text"
      },
      "cell_type": "markdown",
      "source": [
        "### E. 위 A번과 D번에서 구한 분산을 비교하세요."
      ]
    },
    {
      "metadata": {
        "id": "xL1KSmZLv42i",
        "colab_type": "text"
      },
      "cell_type": "markdown",
      "source": [
        "$$\\quad$$\n",
        "\n",
        "축 $(0,1)^T$에 투영한 훈련집합의 분산은 1.6875이고,\n",
        "\n",
        "축 $(1,1)^T$에 투영한 훈련집합의 분산은 1.0937이다.\n",
        "\n",
        "고유분해해서 고유값이 제일 큰 고유벡터에 투영한 훈련집합의 분산은 1.7688 이다.\n",
        "\n",
        "가장 큰 고유값을 가지는 고유벡터로의 투영된 훈련집합의 분산은 축$(0,1)^T$과 축 $(1,1)^T$ 에 투영된 훈련 집합의 분산보다 크다.\n",
        "\n",
        "왜냐하면 공분산행렬의 가장큰 고유값을 같는 고유벡터 로의 투영은 주성분분석(PCA) 와 같은데, 이는 기존데이터의 분산을 최대로 유지하면서 투영을 시키는 방법 이기 때문이다."
      ]
    },
    {
      "metadata": {
        "id": "0T4g3cbCHJkD",
        "colab_type": "text"
      },
      "cell_type": "markdown",
      "source": [
        "# 2. [probability; 10p] \n",
        "## 직원이 A제조사로부터 1000개의 직접회로 (IC)를, B제조사로부터 2000개의 IC를, C제조사로부터 3000개의 IC를 구매했다. IC의 불량 검사 결과, A사로부터 구매한 IC의 불량 확률은 0.05, B사로부터 구매한 IC의 불량 확률은 0.10, C사로부터 구매한 IC의 불량 확률은 0.10이었다.\n",
        "### A. 만약 3개의 제조사로부터 구매한 IC가 섞여 있는 경우, 임의로 선택한 IC가 불량일 확률은 얼마인가?\n",
        "\n",
        "$$\\quad$$\n",
        "\n",
        "A사의 불량 직접회로 수 : $0.05 * 1000 = 50$\n",
        "\n",
        "B사의 불량 직접회로 수 : $0.10 * 2000 = 200$\n",
        "\n",
        "C사의 불량 직접회로 수 : $0.10 * 3000 = 300$\n",
        "\n",
        "P(F): 임의의 선택한 IC가 불량일 확률\n",
        "\n",
        "$${P(F)} ={{number~ of~ fault~ IC} \\over {Total~ number~ of~ IC}}$$\n",
        "\n",
        "$$= {{300 + 200 + 50} \\over {1000 + 2000 + 3000}}$$\n",
        "\n",
        "$$= {550 \\over 6000}$$\n",
        "\n",
        "$$\\simeq 0.0917$$\n",
        "\n",
        "\n"
      ]
    },
    {
      "metadata": {
        "id": "QZO72VYNHVg7",
        "colab_type": "text"
      },
      "cell_type": "markdown",
      "source": [
        "### B. 임의로 선택한 IC가 불량인 경우, 그것이 제조사 A로부터 만들어질 확률은 얼마인가?\n"
      ]
    },
    {
      "metadata": {
        "id": "SHHD5rd0KNfB",
        "colab_type": "text"
      },
      "cell_type": "markdown",
      "source": [
        "$$\\quad$$\n",
        "\n",
        "P(F): 임의의 선택한 IC가 불량일 확률\n",
        "\n",
        "P(A): IC가 제조사 A에서 만들어질 확률\n",
        "\n",
        "$$ P(A|F)  = {{P(A) P(F|A)} \\over{P(F)}}$$\n",
        "\n",
        "\n",
        "$$ = {{\\frac{1000}{6000} \\frac{50}{1000} }\\over{\\frac{550}{6000}}}$$\n",
        "\n",
        "$$ ={50\\over 550} = {1 \\over 11}$$\n",
        "$$\\simeq 0.0909$$"
      ]
    },
    {
      "metadata": {
        "id": "TxBgUnGDHcI8",
        "colab_type": "text"
      },
      "cell_type": "markdown",
      "source": [
        "# 3. [probability; 10p] \n",
        "\n",
        "## K대학은 대학원생보다 2배의 학부생이 재학중이다. 대학원생의 25%가 기숙사에 살고 있고, 학부생의 10%가 기숙사에 살고 있다.\n",
        "\n",
        "### A. 한 학생을 임의로 선정한 경우, 그 학생이 기숙사에 살고 있는 학부생일 확률은 얼마인가?\n"
      ]
    },
    {
      "metadata": {
        "id": "wbnfvMsCzgud",
        "colab_type": "text"
      },
      "cell_type": "markdown",
      "source": [
        "$$\\quad$$\n",
        "\n",
        "대학원생 : a 명\n",
        "\n",
        "학부생: 2a 명\n",
        "\n",
        "기숙하는 대학원생: 0.25a 명\n",
        "\n",
        "기숙하는 학부생: 0.2a 명\n",
        "\n",
        "$P(X)$ : 기숙사에 살고있는 학부생을 선택할 확률\n",
        "\n",
        "$$P(X)  = {{number~of~ undergraduate~ student~who~ live~ in~ dormitory}\\over{Total ~number~ of ~student}}$$\n",
        "\n",
        "$$ = {{0.2a}\\over{3a}} = {{2}\\over{30}} \\simeq 6.7\\%$$"
      ]
    },
    {
      "metadata": {
        "id": "R90bzB49Hf3s",
        "colab_type": "text"
      },
      "cell_type": "markdown",
      "source": [
        "### B. 기숙사에 살고 있는 한 학생을 임의로 선정한 경우, 그 학생이 대학원생일 확률은 얼마인가?"
      ]
    },
    {
      "metadata": {
        "id": "OyvpvPQKnkfd",
        "colab_type": "text"
      },
      "cell_type": "markdown",
      "source": [
        "$$\\quad$$\n",
        "\n",
        "주어진 문제는 다음과 같이 정의 할수 있다.\n",
        "\n",
        "$P(G)$: 선택된 학생이 대학원생인 확률\n",
        "\n",
        "$P(D)$: 선택된 학생이 기숙사에 살 확률\n",
        "\n",
        "$P(D|G)$: 대학원생을 선택할때, 그 학생이 기숙사에 살고있을 확률 \n",
        "\n",
        "$P(G|D)$: 기숙사에 살고있는 한 학생을 선택할때, 선택된 학생이 대학원생일 확률\n",
        "\n",
        "$$ P(G|D)  = {{P(D|G) P(G) }\\over{P(D)}}$$\n",
        "\n",
        "$$ = {{{0.25}{a\\over 3a} }\\over{0.45a\\over{3a}}}$$\n",
        "\n",
        "$$ = {25 \\over 45} \\simeq 55.56\\% $$"
      ]
    },
    {
      "metadata": {
        "id": "qNgqSVM7iW_S",
        "colab_type": "text"
      },
      "cell_type": "markdown",
      "source": [
        "# 4. [numerical computation; 10p] \n",
        "## 다음의 선형 최소 제곱 함수 $f(x) = {\\frac{1}{2}} ||Ax-b||^2_2$ 의 최소값을 Newton method를 이용하여 구하여라."
      ]
    },
    {
      "metadata": {
        "id": "uyJY0psHwBLw",
        "colab_type": "text"
      },
      "cell_type": "markdown",
      "source": [
        "$$\\quad$$\n",
        "\n",
        "$let: y = Ax-b$\n",
        "\n",
        "$$ f = {1 \\over 2} ||y||_F^2 = {1 \\over 2 } y : y$$\n",
        "\n",
        "$$ df = y : dy $$\n",
        "\n",
        "$$\\qquad = y : A~dx$$\n",
        "\n",
        "$$\\qquad = A^Ty : dx $$\n",
        "\n",
        "$$ {{\\partial f}\\over{\\partial x}} = A^Ty ~, ~\\because df = ({\\partial f \\over {\\partial x}} : dx) $$\n",
        "\n",
        "$$  = A^T(Ax-b) $$\n",
        " \n",
        "$f(x)$가 선형 최소 제곱 함수 이므로, quadratic 함수이다.\n",
        "\n",
        "이 때, $\\nabla f=0$인 점은 어떤 초기점에서 시작하더라도,  한 번에 극점에 도달할 수있다.\n",
        " \n",
        "따라서 극점의 위치를 구하면 다음과 같다.\n",
        " \n",
        "$$ {{\\partial f}\\over{\\partial x}} = A^T(Ax-b) =0 $$\n",
        " \n",
        "$$\\therefore x = A^{-1}b$$ 일 때 극점을 가진다.\n",
        " \n",
        "하지만 여기서 $A^{-1}$은 정방행렬일때만 정의가 되므로, 일반적인 $A$에 대해 역행렬을 구할수 없다.\n",
        " \n",
        "따라서 pseudo inverse $(A^\\dagger)$를 이용한다.\n",
        "\n",
        "$$\\therefore x = A^{\\dagger}b$$\n",
        "\n",
        "일 때 극점을 가진다.\n",
        "\n",
        "$$A^\\dagger = (A^{T}A)^{-1}A^T$$\n",
        "    \n",
        "따라서 함수 $f(x)$ 의 최소값은 \n",
        "\n",
        "$$f(x) = {{1}\\over{2}} ||Ax-b||^2_2$$\n",
        "\n",
        "$$= {{1}\\over{2}} ||A(A^{\\dagger}b)-b||^2_2$$\n",
        "\n",
        "$$= {{1}\\over{2}} ||A(A^{T}A)^{-1}A^T)b -b||^2_2$$\n",
        "\n",
        "$$= {{1}\\over{2}} ||AA^{-1}(A^{T})^{-1}A^Tb -b||^2_2$$\n",
        "\n",
        "$$ = 0 $$\n",
        "\n",
        "cf. \":\" 는 Frobenius product"
      ]
    },
    {
      "metadata": {
        "id": "UrYvdZFwwFhY",
        "colab_type": "text"
      },
      "cell_type": "markdown",
      "source": [
        "# 5. [numerical computation; 10p] \n",
        "## 함수 $f(x, y) = x^2-4𝑥+y^2+ 2y$의 다음을 구하세요.\n",
        "\n",
        "### A. 함수의 최소점과 최솟값을 분석적으로 구하세요."
      ]
    },
    {
      "metadata": {
        "id": "0EiM87K5ymz9",
        "colab_type": "text"
      },
      "cell_type": "markdown",
      "source": [
        "$$\\nabla f = ({{\\partial f }\\over{\\partial x}}, {{\\partial f }\\over{\\partial y}})$$\n",
        "\n",
        "$${{\\partial f }\\over{\\partial x}} = 2x-4$$\n",
        "\n",
        "$${{\\partial f }\\over{\\partial y}} = 2y+2$$\n",
        "\n",
        "최소점은 $\\nabla f = 0$ 인 점에서 발생하므로 \n",
        "\n",
        "$${{\\partial f }\\over{\\partial x}} = 2x-4 = 0$$\n",
        "$$x=2$$\n",
        "\n",
        "$${{\\partial f }\\over{\\partial y}} = 2y+2 = 0$$\n",
        "$$y=-1$$\n",
        "\n",
        "함수 $f$ 의 최소점은  $(2,-1)$ 이고\n",
        "\n",
        "최솟값은 $f(2,-1)=  -5$ 이다."
      ]
    },
    {
      "metadata": {
        "id": "PrdhTWClxbP3",
        "colab_type": "text"
      },
      "cell_type": "markdown",
      "source": [
        "### B. 이동 비율이 0.1인 경사 하강법을 통해 초기점 $(x,y) = (5,5)^T$ 에서 이동할 때 얻어지는 점들을 구하세요. (최소 3개 이상의 경로점)\n",
        "\n"
      ]
    },
    {
      "metadata": {
        "id": "yUZofMm5C5hP",
        "colab_type": "code",
        "outputId": "aa3cb4c2-f634-430d-e8b6-7c3a69f68a92",
        "colab": {
          "base_uri": "https://localhost:8080/",
          "height": 168
        }
      },
      "cell_type": "code",
      "source": [
        "import numpy as np\n",
        "\n",
        "# 경사 하강법 함수 정의\n",
        "def gradient_descent(x0, f, f_prime):\n",
        "    x_i, y_i = x0\n",
        "    all_x_i = list()\n",
        "    all_y_i = list()\n",
        "    all_f_i = list()\n",
        "\n",
        "    # 경사 하강법 반복\n",
        "    for i in range(1, 10):\n",
        "        # 좌표 및 함수값 계산\n",
        "        all_x_i.append(x_i)\n",
        "        all_y_i.append(y_i)\n",
        "        all_f_i.append(f(x_i, y_i))\n",
        "        \n",
        "        # 도함수 계산\n",
        "        dx_i, dy_i = f_prime(x_i, y_i)\n",
        "        \n",
        "        # 이동 비율\n",
        "        step = 0.1\n",
        "        \n",
        "        # 이동\n",
        "        x_i += - step*dx_i\n",
        "        y_i += - step*dy_i\n",
        "\n",
        "    return all_x_i, all_y_i, all_f_i\n",
        "\n",
        "# 함수 정의\n",
        "def f(x_i, y_i):\n",
        "    return x_i**2 - 4*x_i + y_i**2 + 2*y_i\n",
        "\n",
        "# 함수의 도함수 정의\n",
        "def f_prime(x_i, y_i):\n",
        "    dx_i = 2*x_i -4\n",
        "    dy_i = 2*y_i +2\n",
        "    \n",
        "    return dx_i, dy_i\n",
        "\n",
        "# 초기값 5,5 설정\n",
        "x0 = (5,5)\n",
        "\n",
        "# 초기값으로 부터 경사하강법 실행\n",
        "all_x, all_y, all_f = gradient_descent(x0, f, f_prime)\n",
        "\n",
        "# 결과 출력\n",
        "for idx, (x, y, f_val) in enumerate(zip(all_x, all_y, all_f)):\n",
        "    print(\"iter:%3d, f(%.2f, %.2f) = %3.2f\"%(idx+1, x, y, f_val))\n"
      ],
      "execution_count": 0,
      "outputs": [
        {
          "output_type": "stream",
          "text": [
            "iter:  1, f(5.00, 5.00) = 40.00\n",
            "iter:  2, f(4.40, 3.80) = 23.80\n",
            "iter:  3, f(3.92, 2.84) = 13.43\n",
            "iter:  4, f(3.54, 2.07) = 6.80\n",
            "iter:  5, f(3.23, 1.46) = 2.55\n",
            "iter:  6, f(2.98, 0.97) = -0.17\n",
            "iter:  7, f(2.79, 0.57) = -1.91\n",
            "iter:  8, f(2.63, 0.26) = -3.02\n",
            "iter:  9, f(2.50, 0.01) = -3.73\n"
          ],
          "name": "stdout"
        }
      ]
    },
    {
      "metadata": {
        "id": "-Fr8NC1BxdaZ",
        "colab_type": "text"
      },
      "cell_type": "markdown",
      "source": [
        "### C. 구한 경로점들이 분석적으로 구한 최소값으로 이동하는지 확인하세요.\n"
      ]
    },
    {
      "metadata": {
        "id": "cgOAy7PdysLW",
        "colab_type": "text"
      },
      "cell_type": "markdown",
      "source": [
        "코드의 계산에 따르면 반복적인 경사하강법 적용에 분석적으로 계산한 최솟값에 근접하게 도달한다."
      ]
    },
    {
      "metadata": {
        "id": "sc-_3mFbJXo7",
        "colab_type": "code",
        "outputId": "22f5787b-18e2-4dbf-f479-84dc9af493e0",
        "colab": {
          "base_uri": "https://localhost:8080/",
          "height": 588
        }
      },
      "cell_type": "code",
      "source": [
        "import numpy as np\n",
        "\n",
        "# 경사 하강법 함수 정의\n",
        "def gradient_descent(x0, f, f_prime):\n",
        "    x_i, y_i = x0\n",
        "    all_x_i = list()\n",
        "    all_y_i = list()\n",
        "    all_f_i = list()\n",
        "\n",
        "    # 경사 하강법 반복\n",
        "    for i in range(1, 35):\n",
        "        # 좌표 및 함수값 계산\n",
        "        all_x_i.append(x_i)\n",
        "        all_y_i.append(y_i)\n",
        "        all_f_i.append(f(x_i, y_i))\n",
        "\n",
        "        # 도함수 계산\n",
        "        dx_i, dy_i = f_prime(x_i, y_i)\n",
        "        \n",
        "        # 이동 비율\n",
        "        step = 0.1\n",
        "        \n",
        "        # 이동\n",
        "        x_i += - step*dx_i\n",
        "        y_i += - step*dy_i\n",
        "\n",
        "    return all_x_i, all_y_i, all_f_i\n",
        "\n",
        "# 함수 정의\n",
        "def f(x_i, y_i):\n",
        "    return x_i**2 - 4*x_i + y_i**2 + 2*y_i\n",
        "\n",
        "# 도함수 정의\n",
        "def f_prime(x_i, y_i):\n",
        "    dx_i = 2*x_i -4\n",
        "    dy_i = 2*y_i +2\n",
        "    \n",
        "    return dx_i, dy_i\n",
        "\n",
        "# 초기값 정의\n",
        "x0 = (5,5)\n",
        "# 초기값으로 부터 경사하강법 실행\n",
        "all_x, all_y, all_f = gradient_descent(x0, f, f_prime)\n",
        "\n",
        "# 결과 출력\n",
        "for idx, (x, y, f_val) in enumerate(zip(all_x, all_y, all_f)):\n",
        "    print(\"iter:%3d, f(%.2f, %.2f) = %3.2f\"%(idx+1, x, y, f_val))\n"
      ],
      "execution_count": 0,
      "outputs": [
        {
          "output_type": "stream",
          "text": [
            "iter:  1, f(5.00, 5.00) = 40.00\n",
            "iter:  2, f(4.40, 3.80) = 23.80\n",
            "iter:  3, f(3.92, 2.84) = 13.43\n",
            "iter:  4, f(3.54, 2.07) = 6.80\n",
            "iter:  5, f(3.23, 1.46) = 2.55\n",
            "iter:  6, f(2.98, 0.97) = -0.17\n",
            "iter:  7, f(2.79, 0.57) = -1.91\n",
            "iter:  8, f(2.63, 0.26) = -3.02\n",
            "iter:  9, f(2.50, 0.01) = -3.73\n",
            "iter: 10, f(2.40, -0.19) = -4.19\n",
            "iter: 11, f(2.32, -0.36) = -4.48\n",
            "iter: 12, f(2.26, -0.48) = -4.67\n",
            "iter: 13, f(2.21, -0.59) = -4.79\n",
            "iter: 14, f(2.16, -0.67) = -4.86\n",
            "iter: 15, f(2.13, -0.74) = -4.91\n",
            "iter: 16, f(2.11, -0.79) = -4.94\n",
            "iter: 17, f(2.08, -0.83) = -4.96\n",
            "iter: 18, f(2.07, -0.86) = -4.98\n",
            "iter: 19, f(2.05, -0.89) = -4.99\n",
            "iter: 20, f(2.04, -0.91) = -4.99\n",
            "iter: 21, f(2.03, -0.93) = -4.99\n",
            "iter: 22, f(2.03, -0.94) = -5.00\n",
            "iter: 23, f(2.02, -0.96) = -5.00\n",
            "iter: 24, f(2.02, -0.96) = -5.00\n",
            "iter: 25, f(2.01, -0.97) = -5.00\n",
            "iter: 26, f(2.01, -0.98) = -5.00\n",
            "iter: 27, f(2.01, -0.98) = -5.00\n",
            "iter: 28, f(2.01, -0.99) = -5.00\n",
            "iter: 29, f(2.01, -0.99) = -5.00\n",
            "iter: 30, f(2.00, -0.99) = -5.00\n",
            "iter: 31, f(2.00, -0.99) = -5.00\n",
            "iter: 32, f(2.00, -0.99) = -5.00\n",
            "iter: 33, f(2.00, -1.00) = -5.00\n",
            "iter: 34, f(2.00, -1.00) = -5.00\n"
          ],
          "name": "stdout"
        }
      ]
    },
    {
      "metadata": {
        "id": "WxtuGq4TxewN",
        "colab_type": "text"
      },
      "cell_type": "markdown",
      "source": [
        "### D. 함수를 등고선 형태로 그리고, 함수의 미분 경사도 그리세요."
      ]
    },
    {
      "metadata": {
        "id": "rloNIPjfKAhX",
        "colab_type": "code",
        "outputId": "577cc0fc-06bf-4ccc-8690-4cf76081340b",
        "colab": {
          "base_uri": "https://localhost:8080/",
          "height": 347
        }
      },
      "cell_type": "code",
      "source": [
        "import matplotlib\n",
        "import matplotlib.cm as cm\n",
        "import matplotlib.pyplot as plt\n",
        "import numpy as np\n",
        "\n",
        "# 경사 하강법 함수 정의\n",
        "def gradient_descent(x0, f, f_prime):\n",
        "    x_i, y_i = x0\n",
        "    all_x_i = list()\n",
        "    all_y_i = list()\n",
        "    all_f_i = list()\n",
        "\n",
        "    # 경사 하강법 반복\n",
        "    for i in range(1, 35):\n",
        "        # 좌표 및 함수값 계산\n",
        "        all_x_i.append(x_i)\n",
        "        all_y_i.append(y_i)\n",
        "        all_f_i.append(f(x_i, y_i))\n",
        "\n",
        "        # 도함수 계산\n",
        "        dx_i, dy_i = f_prime(x_i, y_i)\n",
        "        \n",
        "        # 이동 비율\n",
        "        step = 0.1\n",
        "        \n",
        "        # 이동\n",
        "        x_i += - step*dx_i\n",
        "        y_i += - step*dy_i\n",
        "\n",
        "    return all_x_i, all_y_i, all_f_i\n",
        "\n",
        "# 함수 정의\n",
        "def f(x_i, y_i):\n",
        "    return x_i**2 - 4*x_i + y_i**2 + 2*y_i\n",
        "\n",
        "# 도함수 정의\n",
        "def f_prime(x_i, y_i):\n",
        "    dx_i = 2*x_i -4\n",
        "    dy_i = 2*y_i +2\n",
        "    \n",
        "    return dx_i, dy_i\n",
        "\n",
        "# 초기값 정의\n",
        "x0 = (5,5)\n",
        "# 초기값으로 부터 경사하강법 실행\n",
        "all_x, all_y, all_f = gradient_descent(x0, f, f_prime)\n",
        "\n",
        "# 등고선을 그리기 위한 변수정의\n",
        "delta = 0.025\n",
        "x = np.arange(-5.0, 7.0, delta)\n",
        "y = np.arange(-5.0, 7.0, delta)\n",
        "X, Y = np.meshgrid(x, y)\n",
        "# 등고선 함수 정의\n",
        "f = X**2 - 4*X + Y**2 + 2*Y\n",
        "\n",
        "fig, ax = plt.subplots()\n",
        "# 등고선 플롯\n",
        "CS = ax.contour(X, Y, f, cmap='Accent')\n",
        "ax.clabel(CS, inline=1, fontsize=15)\n",
        "\n",
        "# 함수의 미분 경사도 플롯\n",
        "for i in range(0, len(all_x)):\n",
        "    plt.plot(all_x[i:i+2], all_y[i:i+2], 'ro-', linewidth=1, markersize=5)"
      ],
      "execution_count": 0,
      "outputs": [
        {
          "output_type": "display_data",
          "data": {
            "image/png": "[encoded data removed]",
            "text/plain": [
              "<Figure size 576x396 with 1 Axes>"
            ]
          },
          "metadata": {
            "tags": []
          }
        }
      ]
    },
    {
      "metadata": {
        "id": "-8QeMnigxjf-",
        "colab_type": "text"
      },
      "cell_type": "markdown",
      "source": [
        "# 6. [numerical computation; 5p] \n",
        "## $g_0 =w_0 +2w_1 +1, g_1 =2w_0 +3w_1 -1$인$f=(g_0 +2g_1-1)^2$의 $w_0, w_1$에 대한 편미분을 구하세요."
      ]
    },
    {
      "metadata": {
        "id": "a4-DQX8CyuRp",
        "colab_type": "text"
      },
      "cell_type": "markdown",
      "source": [
        "$${{\\partial f}\\over{\\partial{ w_0}}} = 2(g_0 + 2g_1 - 1) ({\\partial g_0\\over \\partial w_0}+2{\\partial g_1 \\over \\partial w_0})$$\n",
        "\n",
        "$$ = 2(w_0 +2w_1 +1 +2(2w_0 + 3w_1-1) -1)(1 + 2(2))$$\n",
        "\n",
        "$$ ( \\because {\\partial g_0\\over \\partial w_0} =1 , {\\partial g_1 \\over \\partial w_0} = 2 )$$\n",
        "\n",
        "$$ = 10 (w_0 +2w_1 +4w_0 + 6w_1-2 )$$\n",
        "\n",
        "$$ = 10 (5w_0+ 8w_1 -2) $$\n",
        "\n",
        "$$ = 50w_0+ 80w_1 -20 $$\n",
        "\n",
        "$$ \\therefore {{\\partial f}\\over{\\partial{ w_0}}} = 50w_0+ 80w_1 -20 $$\n",
        "\n",
        "$\\quad$\n",
        "\n",
        "$$ {{\\partial f}\\over{\\partial{ w_1}}} 2(g_0 + 2g_1 - 1) ({\\partial g_0\\over \\partial w_1}+2{\\partial g_1 \\over \\partial w_1})$$\n",
        "\n",
        "$$ = 2(w_0 +2w_1 +1 +2(2w_0 + 3w_1-1) -1)(2 + 2(3))$$\n",
        "\n",
        "$$ (\\because {\\partial g_0\\over \\partial w_1} =2 , {\\partial g_1 \\over \\partial w_1} = 3)$$\n",
        "\n",
        "$$ = 16 (5w_0+ 8w_1 -2) $$\n",
        "\n",
        "$$ = 80w_0 +128 w_1 - 32 $$\n",
        "\n",
        "$$ \\therefore {{\\partial f}\\over{\\partial{ w_1}}} = 80w_0 +128 w_1 - 32 $$"
      ]
    },
    {
      "metadata": {
        "id": "Ea79siVJyBU0",
        "colab_type": "text"
      },
      "cell_type": "markdown",
      "source": [
        "# 7. [PLA; 15p] \n",
        "## PLA 가중치 갱신 법칙 $w(t + 1) = w(t) + y(t)x(t)$를 보고 다음 문제의 답을 보이세요.\n",
        "\n",
        "### A. $y(t) w^T(t)x(t)<0$임을 보이세요. (Hint : $x(t)$는 $w(t)$에 의해 오분류 됨)"
      ]
    },
    {
      "metadata": {
        "id": "s1gWVkuMqYP0",
        "colab_type": "text"
      },
      "cell_type": "markdown",
      "source": [
        "$$\\quad$$\n",
        "\n",
        "간단한 perceptron 은 다음과 같이 정의할수있다.\n",
        "\n",
        "$$h(x)  = sign (w^T x)$$\n",
        "\n",
        "$x(t)$ 가 $w(t)$ 에 의해 오분류 되었다 가정하자\n",
        "\n",
        "$let~y(t) = 1$\n",
        "\n",
        "오분류 이므로 $h(x) = -1$ 이고 $w^T(t)x(t)<0$\n",
        "\n",
        "$$\\therefore y(t)w^𝑇(t)x(t) < 0 $$\n",
        "\n",
        "$let~y(t) = -1$\n",
        "\n",
        "오분류 이므로 $h(x)=+1$ 이고 $w^T(t)x(t)>0$\n",
        "\n",
        "$$\\therefore y(t) w^T(t)x(t)<0$$\n",
        "\n",
        "\n"
      ]
    },
    {
      "metadata": {
        "id": "BaiTSRBdqRpp",
        "colab_type": "text"
      },
      "cell_type": "markdown",
      "source": [
        "### B. $y(t) w^T (t + 1) x(t) > y(t) w^T(t)x(t)$ 임을 보이세요. (Hint: $w(t + 1) = w(t) + y(t)x(t)$ 이용)\n",
        "\n"
      ]
    },
    {
      "metadata": {
        "id": "Wa55-hZNqZux",
        "colab_type": "text"
      },
      "cell_type": "markdown",
      "source": [
        "$$y(t) w^T (t + 1) x(t) = y(t) (w(t) + y(t)x(t)) x(t) $$\n",
        "\n",
        "$$ = y(t)w^T(t)x(t)+y(t)y(t)x(t)x(t)$$\n",
        "\n",
        "$$y(t)w^T(t+1)x(t) - y(t)w^T(t)x(t) = y(t)y(t)x(t)x(t)$$\n",
        "\n",
        "$$y(t)y(t)x(t)x(t)>0$$\n",
        "\n",
        "$$\\because x(t) \\in \\mathbb{R}, y(t) \\in \\mathbb{R}$$\n",
        "\n",
        "$$\\therefore y(t) w^T (t + 1) x(t) > y(t) w^T(t)x(t)$$\n"
      ]
    },
    {
      "metadata": {
        "id": "i6lL9wVIqeVp",
        "colab_type": "text"
      },
      "cell_type": "markdown",
      "source": [
        "### C. $w(t)$에서 $w(t+1)$로 이동하는 것이 $x(t)$를 분류하는데 올바른 방향으로 이동함을 설명하세요."
      ]
    },
    {
      "metadata": {
        "id": "-El9Ddsiqahv",
        "colab_type": "text"
      },
      "cell_type": "markdown",
      "source": [
        "$$\\quad$$\n",
        "\n",
        "문제는 $w(t+1) = w(t) + y(t)x(t)$에서 $y(t)x(t)$를 기존 가중치에서 더해주는 방법이 올바른 방법인지 설명하는 것이다.\n",
        "\n",
        "오분류를 하고 있을 경우를 가정해보자.\n",
        "\n",
        "먼저 참값이 $y = +1$ 일 때,\n",
        "\n",
        "![](PyqPZsC.png)\n",
        "\n",
        "위 그림을 보면 $w^T x < 0$으로 오분류를 하고있다. 이 때 $y x$의 방향으로 $w$를 이동 시켜주면\n",
        "오분류를 해결할 수 있다.\n",
        "\n",
        "다음으로 참값이 $y = -1$ 일 때,\n",
        "\n",
        "![](n1jkTyV.png)\n",
        "\n",
        "위 그림을 보면 $w^T x > 0$으로 오분류를 하고있다. 이 때 $yx$의 방향으로 $w$를 이동 시켜주면\n",
        "오분류를 해결할 수 있다.\n",
        "\n",
        "따라서$w(t)$에서 $w(t+1)$로 이동하는 것이 $x(t)$를 분류하는데 올바른 방향으로 이동한다.\n"
      ]
    },
    {
      "metadata": {
        "id": "858mZ__Hqf9i",
        "colab_type": "text"
      },
      "cell_type": "markdown",
      "source": [
        "### D. $𝐰 = [w_0,w_1,w_2]^T$이고, $𝐱 = [1,x_1,x_2]^T$인 $h(x) = sign(w^Tx)$ 일 때, $h(x) = -1$와 $h(x) = 1$는 결정 직선 $x_2 =ax_1+b$에 의해 구분된다. 결정 직선의 기울기 $a$와 절편 $b$를 가중치 $w_0,w_1,w_2$에 의해 설명하세요."
      ]
    },
    {
      "metadata": {
        "id": "4BK1ILhzqbAC",
        "colab_type": "text"
      },
      "cell_type": "markdown",
      "source": [
        "$$\\quad$$\n",
        "\n",
        "벡터의 각 요소를 풀어서 계산 해보면\n",
        "\n",
        "$$w^Tx = w_o + w_1x_1 + w_2x_2$$\n",
        "\n",
        "$sign()$ 함수는 0을 기준으로 -1과 +1로 값이 나오기 때문에\n",
        "\n",
        "$$w^Tx = 0 $$\n",
        "\n",
        "$$w_o + w_1x_1 + w_2x_2 =0 $$\n",
        "\n",
        "$$-\\frac{w_1}{w_2} x_1 - \\frac{w_o}{w_2}   = x_2 $$\n",
        "\n",
        "이 결정 직선이 된다.\n",
        "\n",
        "이를 위의 결정 직선과 비교하면\n",
        "\n",
        "$$a = -\\frac{w_1}{w_2}$$\n",
        "\n",
        "$$b = -\\frac{w_0}{w_2}$$\n",
        "\n",
        "이 된다.\n",
        " \n",
        " 따라서 결정직선의 기울기 $a$ 는 $-\\frac{w_1}{w_2}$ 이고,\n",
        " 절편 $b$ 은 $-\\frac{w_0}{w_2}$가 된다."
      ]
    },
    {
      "metadata": {
        "id": "Dya_dN-XyHpL",
        "colab_type": "text"
      },
      "cell_type": "markdown",
      "source": [
        "# 8. [PLA; 15p] \n",
        "## PLA는 결과적으로 선형적으로 분리를 하는 최적 가중치 $w^*$에 얻게 된다. 다음 문제의 답을 보이세요. ($w(0) = 0$임을 가정)\n",
        "\n",
        "### A. $\\rho = \\min\\limits_{1\\leq n \\leq N} {y_n(w^*x_n)}$일 때, $\\rho >0$임을 보이세요. \n",
        "\n"
      ]
    },
    {
      "metadata": {
        "id": "-Sdj2BtTqrIP",
        "colab_type": "text"
      },
      "cell_type": "markdown",
      "source": [
        "$$\\quad$$\n",
        "\n",
        "최적 가중치 $w^*$ 에서\n",
        "$$sign(w^*x_n) = y_n$$\n",
        "\n",
        "$$sign(\\rho) = sign(\\min\\limits_{1\\leq n \\leq N} {y_n(w^*x_n)}) = \\min\\limits_{1\\leq n\\leq N} {y_n^2}$$\n",
        "\n",
        "$$\\therefore \\rho >0$$\n",
        "$$\\because y_n = 1 ~or~ y_n = -1$$"
      ]
    },
    {
      "metadata": {
        "id": "Kt90ZEPlqtg2",
        "colab_type": "text"
      },
      "cell_type": "markdown",
      "source": [
        "### B. $w^T(t)w^* \\geq w^T(t-1)w^*+\\rho$임을 보이고, 결과적으로 $w^T(t)w^*\\geq t\\rho$임을 보이세요. (Hint: 귀납법 이용)\n"
      ]
    },
    {
      "metadata": {
        "id": "atAlVNkGqzfO",
        "colab_type": "text"
      },
      "cell_type": "markdown",
      "source": [
        "$$w^T(t)w^* = (w(t-1) + y(t-1)x(t-1))^Tw^*$$\n",
        "\n",
        "$$ = w^T(t-1)w^*+(y(t-1)x(t-1))^Tw^*$$\n",
        "\n",
        "$$ \\because w(t) = w(t-1) + y(t-1)x(t-1)$$\n",
        "\n",
        "$\\rho$의 정의로부터 \n",
        "\n",
        "$$(y(t-1)x(t-1))^Tw^* \\geq \\rho$$\n",
        "\n",
        "$$\\because \\rho = \\min\\limits_{1\\leq n\\leq N} {y_n(w^* x_n)}$$\n",
        "\n",
        "$$w^T(t-1)w^* + (y(t-1)x(t-1))^T w^* \\geq w^T(t-1)w^* + \\rho $$\n",
        "\n",
        "$$\\therefore  w^T(t)w^* \\geq w^T(t-1)w^* + \\rho$$\n",
        "\n",
        "$\\quad$\n",
        "\n",
        "귀납법을 사용하면\n",
        "\n",
        "$$w^T(t)w^* \\geq w^T(t-1)w^* + \\rho$$\n",
        "\n",
        "$$w^T(t)w^* \\geq w^T(t-2)w^* + 2 \\rho$$\n",
        "\n",
        "$$w^T(t)w^* \\geq w^T(t-3)w^* + 3 \\rho$$\n",
        "\n",
        "$$...$$\n",
        "\n",
        "$$w^T(t)w^* \\geq w^T(0)w^* + t \\rho$$\n",
        "\n",
        "$$w^T(t)w^* \\geq t \\rho$$\n",
        "\n",
        "$$\\because w(0) = 0$$"
      ]
    },
    {
      "metadata": {
        "id": "JhwsHfDoqvuX",
        "colab_type": "text"
      },
      "cell_type": "markdown",
      "source": [
        "### C. $||w(t)||^2 \\leq||w(t-1)||^2 +||x(t-1)||^2$임을 보이세요. (Hint: $x(t-1)$는 $w(t-1)$에 오분류 되어 $y(t-1)\\cdot(w^T(t-1)x(t-1)) \\leq 0$ 임을 활용)"
      ]
    },
    {
      "metadata": {
        "id": "FgIXYJ4Iq0kr",
        "colab_type": "text"
      },
      "cell_type": "markdown",
      "source": [
        "$$||w(t)||^2  = (||w(t-1) + y(t-1)x(t-1)||)^2$$\n",
        "\n",
        "Perceptron learning algorithm 에 의해서\n",
        "$$\\because w(t) = w(t-1) + y(t-1)x(t-1)$$\n",
        "\n",
        "$$||w(t)||^2 = ||w(t-1)||^2 + 2||y(t-1)w^T(t-1)x(t-1)|| + ||y(t-1)x(t-1)y(t-1)x(t-1)|| $$\n",
        "\n",
        "$$ = ||w(t-1)||^2 + 2||y(t-1)w^T(t-1)x(t-1)|| + ||x(t-1)||^2$$\n",
        "\n",
        "$$ \\because y(t-1)^2 = 1$$\n",
        "\n",
        " $||w(t)||^2$ 과 $||w(t-1)||^2 +||x(t-1)||^2$ 의 크기 비교를 위해 둘의 차를 계산하면\n",
        "\n",
        "$$||w(t-1)||^2 + 2||y(t-1)w^T(t-1)x(t-1)||+||x(t-1)||^2 - (||w(t-1)||^2+||x(t-1)||^2)$$\n",
        "\n",
        "$$= 2y(t-1)w^T(t-1)x(t-1)$$\n",
        "\n",
        "$x(t-1)$는 $w(t-1)$에의해 오분류 되어\n",
        "\n",
        "$$\\because y(t-1)\\cdot(w^T(t-1)x(t-1)) \\leq 0$$\n",
        "\n",
        "따라서 $||w(t)||^2$ 과 $||w(t-1)||^2 +||x(t-1)||^2$ 차는 0보다 작거나 같고 아래 수식을 만족한다.\n",
        "\n",
        "$$\\therefore ||w(t)||^2 \\leq ||w(t-1)||^2 +||x(t-1)||^2$$"
      ]
    },
    {
      "metadata": {
        "id": "-Zfsy6uWyTAF",
        "colab_type": "text"
      },
      "cell_type": "markdown",
      "source": [
        "# 9. [LR; 15p] \n",
        "## UCI의 wine quality 데이터를 활용하여 다음의 분석을 수행하세요. (참고: https://archive.ics.uci.edu/ml/machine-learning-databases/wine-quality/)\n",
        "### A. 와인의 데이터의 일부를 출력하여 확인하세요.\n"
      ]
    },
    {
      "metadata": {
        "id": "FRRnWoagnz1_",
        "colab_type": "code",
        "outputId": "cdd596f5-09a7-4480-c38a-a98e65196d7f",
        "colab": {
          "base_uri": "https://localhost:8080/",
          "height": 202
        }
      },
      "cell_type": "code",
      "source": [
        "# Data download (red wine 데이터만 사용한다.)\n",
        "!wget https://archive.ics.uci.edu/ml/machine-learning-databases/wine-quality/winequality-red.csv"
      ],
      "execution_count": 0,
      "outputs": [
        {
          "output_type": "stream",
          "text": [
            "--2019-04-08 04:53:35--  https://archive.ics.uci.edu/ml/machine-learning-databases/wine-quality/winequality-red.csv\n",
            "Resolving archive.ics.uci.edu (archive.ics.uci.edu)... 128.195.10.252\n",
            "Connecting to archive.ics.uci.edu (archive.ics.uci.edu)|128.195.10.252|:443... connected.\n",
            "HTTP request sent, awaiting response... 200 OK\n",
            "Length: 84199 (82K) [application/x-httpd-php]\n",
            "Saving to: ‘winequality-red.csv’\n",
            "\n",
            "\rwinequality-red.csv   0%[                    ]       0  --.-KB/s               \rwinequality-red.csv 100%[===================>]  82.23K  --.-KB/s    in 0.1s    \n",
            "\n",
            "2019-04-08 04:53:36 (614 KB/s) - ‘winequality-red.csv’ saved [84199/84199]\n",
            "\n"
          ],
          "name": "stdout"
        }
      ]
    },
    {
      "metadata": {
        "id": "-FVF1wlw0HKw",
        "colab_type": "code",
        "outputId": "6f7e3a15-c21f-4520-dcb7-cd4ca7465edc",
        "colab": {
          "base_uri": "https://localhost:8080/",
          "height": 360
        }
      },
      "cell_type": "code",
      "source": [
        "import pandas as pd\n",
        "\n",
        "# 다운로드한 데이터를 pandas 로 불러오고 상위10개의 데이터를 출력한다.\n",
        "data = pd.read_csv(\"winequality-red.csv\", sep=';')\n",
        "data.head(10)"
      ],
      "execution_count": 0,
      "outputs": [
        {
          "output_type": "execute_result",
          "data": {
            "text/html": [
              "<div>\n",
              "<style scoped>\n",
              "    .dataframe tbody tr th:only-of-type {\n",
              "        vertical-align: middle;\n",
              "    }\n",
              "\n",
              "    .dataframe tbody tr th {\n",
              "        vertical-align: top;\n",
              "    }\n",
              "\n",
              "    .dataframe thead th {\n",
              "        text-align: right;\n",
              "    }\n",
              "</style>\n",
              "<table border=\"1\" class=\"dataframe\">\n",
              "  <thead>\n",
              "    <tr style=\"text-align: right;\">\n",
              "      <th></th>\n",
              "      <th>fixed acidity</th>\n",
              "      <th>volatile acidity</th>\n",
              "      <th>citric acid</th>\n",
              "      <th>residual sugar</th>\n",
              "      <th>chlorides</th>\n",
              "      <th>free sulfur dioxide</th>\n",
              "      <th>total sulfur dioxide</th>\n",
              "      <th>density</th>\n",
              "      <th>pH</th>\n",
              "      <th>sulphates</th>\n",
              "      <th>alcohol</th>\n",
              "      <th>quality</th>\n",
              "    </tr>\n",
              "  </thead>\n",
              "  <tbody>\n",
              "    <tr>\n",
              "      <th>0</th>\n",
              "      <td>7.4</td>\n",
              "      <td>0.70</td>\n",
              "      <td>0.00</td>\n",
              "      <td>1.9</td>\n",
              "      <td>0.076</td>\n",
              "      <td>11.0</td>\n",
              "      <td>34.0</td>\n",
              "      <td>0.9978</td>\n",
              "      <td>3.51</td>\n",
              "      <td>0.56</td>\n",
              "      <td>9.4</td>\n",
              "      <td>5</td>\n",
              "    </tr>\n",
              "    <tr>\n",
              "      <th>1</th>\n",
              "      <td>7.8</td>\n",
              "      <td>0.88</td>\n",
              "      <td>0.00</td>\n",
              "      <td>2.6</td>\n",
              "      <td>0.098</td>\n",
              "      <td>25.0</td>\n",
              "      <td>67.0</td>\n",
              "      <td>0.9968</td>\n",
              "      <td>3.20</td>\n",
              "      <td>0.68</td>\n",
              "      <td>9.8</td>\n",
              "      <td>5</td>\n",
              "    </tr>\n",
              "    <tr>\n",
              "      <th>2</th>\n",
              "      <td>7.8</td>\n",
              "      <td>0.76</td>\n",
              "      <td>0.04</td>\n",
              "      <td>2.3</td>\n",
              "      <td>0.092</td>\n",
              "      <td>15.0</td>\n",
              "      <td>54.0</td>\n",
              "      <td>0.9970</td>\n",
              "      <td>3.26</td>\n",
              "      <td>0.65</td>\n",
              "      <td>9.8</td>\n",
              "      <td>5</td>\n",
              "    </tr>\n",
              "    <tr>\n",
              "      <th>3</th>\n",
              "      <td>11.2</td>\n",
              "      <td>0.28</td>\n",
              "      <td>0.56</td>\n",
              "      <td>1.9</td>\n",
              "      <td>0.075</td>\n",
              "      <td>17.0</td>\n",
              "      <td>60.0</td>\n",
              "      <td>0.9980</td>\n",
              "      <td>3.16</td>\n",
              "      <td>0.58</td>\n",
              "      <td>9.8</td>\n",
              "      <td>6</td>\n",
              "    </tr>\n",
              "    <tr>\n",
              "      <th>4</th>\n",
              "      <td>7.4</td>\n",
              "      <td>0.70</td>\n",
              "      <td>0.00</td>\n",
              "      <td>1.9</td>\n",
              "      <td>0.076</td>\n",
              "      <td>11.0</td>\n",
              "      <td>34.0</td>\n",
              "      <td>0.9978</td>\n",
              "      <td>3.51</td>\n",
              "      <td>0.56</td>\n",
              "      <td>9.4</td>\n",
              "      <td>5</td>\n",
              "    </tr>\n",
              "    <tr>\n",
              "      <th>5</th>\n",
              "      <td>7.4</td>\n",
              "      <td>0.66</td>\n",
              "      <td>0.00</td>\n",
              "      <td>1.8</td>\n",
              "      <td>0.075</td>\n",
              "      <td>13.0</td>\n",
              "      <td>40.0</td>\n",
              "      <td>0.9978</td>\n",
              "      <td>3.51</td>\n",
              "      <td>0.56</td>\n",
              "      <td>9.4</td>\n",
              "      <td>5</td>\n",
              "    </tr>\n",
              "    <tr>\n",
              "      <th>6</th>\n",
              "      <td>7.9</td>\n",
              "      <td>0.60</td>\n",
              "      <td>0.06</td>\n",
              "      <td>1.6</td>\n",
              "      <td>0.069</td>\n",
              "      <td>15.0</td>\n",
              "      <td>59.0</td>\n",
              "      <td>0.9964</td>\n",
              "      <td>3.30</td>\n",
              "      <td>0.46</td>\n",
              "      <td>9.4</td>\n",
              "      <td>5</td>\n",
              "    </tr>\n",
              "    <tr>\n",
              "      <th>7</th>\n",
              "      <td>7.3</td>\n",
              "      <td>0.65</td>\n",
              "      <td>0.00</td>\n",
              "      <td>1.2</td>\n",
              "      <td>0.065</td>\n",
              "      <td>15.0</td>\n",
              "      <td>21.0</td>\n",
              "      <td>0.9946</td>\n",
              "      <td>3.39</td>\n",
              "      <td>0.47</td>\n",
              "      <td>10.0</td>\n",
              "      <td>7</td>\n",
              "    </tr>\n",
              "    <tr>\n",
              "      <th>8</th>\n",
              "      <td>7.8</td>\n",
              "      <td>0.58</td>\n",
              "      <td>0.02</td>\n",
              "      <td>2.0</td>\n",
              "      <td>0.073</td>\n",
              "      <td>9.0</td>\n",
              "      <td>18.0</td>\n",
              "      <td>0.9968</td>\n",
              "      <td>3.36</td>\n",
              "      <td>0.57</td>\n",
              "      <td>9.5</td>\n",
              "      <td>7</td>\n",
              "    </tr>\n",
              "    <tr>\n",
              "      <th>9</th>\n",
              "      <td>7.5</td>\n",
              "      <td>0.50</td>\n",
              "      <td>0.36</td>\n",
              "      <td>6.1</td>\n",
              "      <td>0.071</td>\n",
              "      <td>17.0</td>\n",
              "      <td>102.0</td>\n",
              "      <td>0.9978</td>\n",
              "      <td>3.35</td>\n",
              "      <td>0.80</td>\n",
              "      <td>10.5</td>\n",
              "      <td>5</td>\n",
              "    </tr>\n",
              "  </tbody>\n",
              "</table>\n",
              "</div>"
            ],
            "text/plain": [
              "   fixed acidity  volatile acidity  citric acid  residual sugar  chlorides  \\\n",
              "0            7.4              0.70         0.00             1.9      0.076   \n",
              "1            7.8              0.88         0.00             2.6      0.098   \n",
              "2            7.8              0.76         0.04             2.3      0.092   \n",
              "3           11.2              0.28         0.56             1.9      0.075   \n",
              "4            7.4              0.70         0.00             1.9      0.076   \n",
              "5            7.4              0.66         0.00             1.8      0.075   \n",
              "6            7.9              0.60         0.06             1.6      0.069   \n",
              "7            7.3              0.65         0.00             1.2      0.065   \n",
              "8            7.8              0.58         0.02             2.0      0.073   \n",
              "9            7.5              0.50         0.36             6.1      0.071   \n",
              "\n",
              "   free sulfur dioxide  total sulfur dioxide  density    pH  sulphates  \\\n",
              "0                 11.0                  34.0   0.9978  3.51       0.56   \n",
              "1                 25.0                  67.0   0.9968  3.20       0.68   \n",
              "2                 15.0                  54.0   0.9970  3.26       0.65   \n",
              "3                 17.0                  60.0   0.9980  3.16       0.58   \n",
              "4                 11.0                  34.0   0.9978  3.51       0.56   \n",
              "5                 13.0                  40.0   0.9978  3.51       0.56   \n",
              "6                 15.0                  59.0   0.9964  3.30       0.46   \n",
              "7                 15.0                  21.0   0.9946  3.39       0.47   \n",
              "8                  9.0                  18.0   0.9968  3.36       0.57   \n",
              "9                 17.0                 102.0   0.9978  3.35       0.80   \n",
              "\n",
              "   alcohol  quality  \n",
              "0      9.4        5  \n",
              "1      9.8        5  \n",
              "2      9.8        5  \n",
              "3      9.8        6  \n",
              "4      9.4        5  \n",
              "5      9.4        5  \n",
              "6      9.4        5  \n",
              "7     10.0        7  \n",
              "8      9.5        7  \n",
              "9     10.5        5  "
            ]
          },
          "metadata": {
            "tags": []
          },
          "execution_count": 28
        }
      ]
    },
    {
      "metadata": {
        "id": "WmGzZ4e_np0v",
        "colab_type": "text"
      },
      "cell_type": "markdown",
      "source": [
        "### B. 와인의 각 속성의 통계적 특성들 (평균, 분산, 최대값, 최소값 등)을 확인하세요."
      ]
    },
    {
      "metadata": {
        "id": "bV0SzOptn9ot",
        "colab_type": "code",
        "outputId": "041054c5-8025-45e5-a025-1de83e4d417c",
        "colab": {
          "base_uri": "https://localhost:8080/",
          "height": 318
        }
      },
      "cell_type": "code",
      "source": [
        "# 데이터의 통계적 특성들을 출력한다.\n",
        "data.describe()"
      ],
      "execution_count": 0,
      "outputs": [
        {
          "output_type": "execute_result",
          "data": {
            "text/html": [
              "<div>\n",
              "<style scoped>\n",
              "    .dataframe tbody tr th:only-of-type {\n",
              "        vertical-align: middle;\n",
              "    }\n",
              "\n",
              "    .dataframe tbody tr th {\n",
              "        vertical-align: top;\n",
              "    }\n",
              "\n",
              "    .dataframe thead th {\n",
              "        text-align: right;\n",
              "    }\n",
              "</style>\n",
              "<table border=\"1\" class=\"dataframe\">\n",
              "  <thead>\n",
              "    <tr style=\"text-align: right;\">\n",
              "      <th></th>\n",
              "      <th>fixed acidity</th>\n",
              "      <th>volatile acidity</th>\n",
              "      <th>citric acid</th>\n",
              "      <th>residual sugar</th>\n",
              "      <th>chlorides</th>\n",
              "      <th>free sulfur dioxide</th>\n",
              "      <th>total sulfur dioxide</th>\n",
              "      <th>density</th>\n",
              "      <th>pH</th>\n",
              "      <th>sulphates</th>\n",
              "      <th>alcohol</th>\n",
              "      <th>quality</th>\n",
              "    </tr>\n",
              "  </thead>\n",
              "  <tbody>\n",
              "    <tr>\n",
              "      <th>count</th>\n",
              "      <td>1599.000000</td>\n",
              "      <td>1599.000000</td>\n",
              "      <td>1599.000000</td>\n",
              "      <td>1599.000000</td>\n",
              "      <td>1599.000000</td>\n",
              "      <td>1599.000000</td>\n",
              "      <td>1599.000000</td>\n",
              "      <td>1599.000000</td>\n",
              "      <td>1599.000000</td>\n",
              "      <td>1599.000000</td>\n",
              "      <td>1599.000000</td>\n",
              "      <td>1599.000000</td>\n",
              "    </tr>\n",
              "    <tr>\n",
              "      <th>mean</th>\n",
              "      <td>8.319637</td>\n",
              "      <td>0.527821</td>\n",
              "      <td>0.270976</td>\n",
              "      <td>2.538806</td>\n",
              "      <td>0.087467</td>\n",
              "      <td>15.874922</td>\n",
              "      <td>46.467792</td>\n",
              "      <td>0.996747</td>\n",
              "      <td>3.311113</td>\n",
              "      <td>0.658149</td>\n",
              "      <td>10.422983</td>\n",
              "      <td>5.636023</td>\n",
              "    </tr>\n",
              "    <tr>\n",
              "      <th>std</th>\n",
              "      <td>1.741096</td>\n",
              "      <td>0.179060</td>\n",
              "      <td>0.194801</td>\n",
              "      <td>1.409928</td>\n",
              "      <td>0.047065</td>\n",
              "      <td>10.460157</td>\n",
              "      <td>32.895324</td>\n",
              "      <td>0.001887</td>\n",
              "      <td>0.154386</td>\n",
              "      <td>0.169507</td>\n",
              "      <td>1.065668</td>\n",
              "      <td>0.807569</td>\n",
              "    </tr>\n",
              "    <tr>\n",
              "      <th>min</th>\n",
              "      <td>4.600000</td>\n",
              "      <td>0.120000</td>\n",
              "      <td>0.000000</td>\n",
              "      <td>0.900000</td>\n",
              "      <td>0.012000</td>\n",
              "      <td>1.000000</td>\n",
              "      <td>6.000000</td>\n",
              "      <td>0.990070</td>\n",
              "      <td>2.740000</td>\n",
              "      <td>0.330000</td>\n",
              "      <td>8.400000</td>\n",
              "      <td>3.000000</td>\n",
              "    </tr>\n",
              "    <tr>\n",
              "      <th>25%</th>\n",
              "      <td>7.100000</td>\n",
              "      <td>0.390000</td>\n",
              "      <td>0.090000</td>\n",
              "      <td>1.900000</td>\n",
              "      <td>0.070000</td>\n",
              "      <td>7.000000</td>\n",
              "      <td>22.000000</td>\n",
              "      <td>0.995600</td>\n",
              "      <td>3.210000</td>\n",
              "      <td>0.550000</td>\n",
              "      <td>9.500000</td>\n",
              "      <td>5.000000</td>\n",
              "    </tr>\n",
              "    <tr>\n",
              "      <th>50%</th>\n",
              "      <td>7.900000</td>\n",
              "      <td>0.520000</td>\n",
              "      <td>0.260000</td>\n",
              "      <td>2.200000</td>\n",
              "      <td>0.079000</td>\n",
              "      <td>14.000000</td>\n",
              "      <td>38.000000</td>\n",
              "      <td>0.996750</td>\n",
              "      <td>3.310000</td>\n",
              "      <td>0.620000</td>\n",
              "      <td>10.200000</td>\n",
              "      <td>6.000000</td>\n",
              "    </tr>\n",
              "    <tr>\n",
              "      <th>75%</th>\n",
              "      <td>9.200000</td>\n",
              "      <td>0.640000</td>\n",
              "      <td>0.420000</td>\n",
              "      <td>2.600000</td>\n",
              "      <td>0.090000</td>\n",
              "      <td>21.000000</td>\n",
              "      <td>62.000000</td>\n",
              "      <td>0.997835</td>\n",
              "      <td>3.400000</td>\n",
              "      <td>0.730000</td>\n",
              "      <td>11.100000</td>\n",
              "      <td>6.000000</td>\n",
              "    </tr>\n",
              "    <tr>\n",
              "      <th>max</th>\n",
              "      <td>15.900000</td>\n",
              "      <td>1.580000</td>\n",
              "      <td>1.000000</td>\n",
              "      <td>15.500000</td>\n",
              "      <td>0.611000</td>\n",
              "      <td>72.000000</td>\n",
              "      <td>289.000000</td>\n",
              "      <td>1.003690</td>\n",
              "      <td>4.010000</td>\n",
              "      <td>2.000000</td>\n",
              "      <td>14.900000</td>\n",
              "      <td>8.000000</td>\n",
              "    </tr>\n",
              "  </tbody>\n",
              "</table>\n",
              "</div>"
            ],
            "text/plain": [
              "       fixed acidity  volatile acidity  citric acid  residual sugar  \\\n",
              "count    1599.000000       1599.000000  1599.000000     1599.000000   \n",
              "mean        8.319637          0.527821     0.270976        2.538806   \n",
              "std         1.741096          0.179060     0.194801        1.409928   \n",
              "min         4.600000          0.120000     0.000000        0.900000   \n",
              "25%         7.100000          0.390000     0.090000        1.900000   \n",
              "50%         7.900000          0.520000     0.260000        2.200000   \n",
              "75%         9.200000          0.640000     0.420000        2.600000   \n",
              "max        15.900000          1.580000     1.000000       15.500000   \n",
              "\n",
              "         chlorides  free sulfur dioxide  total sulfur dioxide      density  \\\n",
              "count  1599.000000          1599.000000           1599.000000  1599.000000   \n",
              "mean      0.087467            15.874922             46.467792     0.996747   \n",
              "std       0.047065            10.460157             32.895324     0.001887   \n",
              "min       0.012000             1.000000              6.000000     0.990070   \n",
              "25%       0.070000             7.000000             22.000000     0.995600   \n",
              "50%       0.079000            14.000000             38.000000     0.996750   \n",
              "75%       0.090000            21.000000             62.000000     0.997835   \n",
              "max       0.611000            72.000000            289.000000     1.003690   \n",
              "\n",
              "                pH    sulphates      alcohol      quality  \n",
              "count  1599.000000  1599.000000  1599.000000  1599.000000  \n",
              "mean      3.311113     0.658149    10.422983     5.636023  \n",
              "std       0.154386     0.169507     1.065668     0.807569  \n",
              "min       2.740000     0.330000     8.400000     3.000000  \n",
              "25%       3.210000     0.550000     9.500000     5.000000  \n",
              "50%       3.310000     0.620000    10.200000     6.000000  \n",
              "75%       3.400000     0.730000    11.100000     6.000000  \n",
              "max       4.010000     2.000000    14.900000     8.000000  "
            ]
          },
          "metadata": {
            "tags": []
          },
          "execution_count": 29
        }
      ]
    },
    {
      "metadata": {
        "id": "sHCtz4a2n6AR",
        "colab_type": "text"
      },
      "cell_type": "markdown",
      "source": [
        "\n",
        "\n",
        "### C. 와인의 12가지 속성 간의 상관관계를 heatmap 형태로 그려 분석하세요.\n",
        "\n",
        "$$\\quad$$\n",
        "\n",
        "아래의 그래프로 부터 상관관계를 분석 하면 다음과 같다.\n",
        "\n",
        "* fixed acidity 와 critic acid 는 상관 관계가 높다.\n",
        "\n",
        "* fixed acidity 와 density는 상관 관계가 높다.\n",
        "\n",
        "* free sulfer dioxide 는 total sulfer dioxide 와 상관관계가 높다.\n",
        "\n",
        "* alcohol 과 quality 는 상관관계가 다소 높다."
      ]
    },
    {
      "metadata": {
        "id": "eBPP6SIQn-Nw",
        "colab_type": "code",
        "outputId": "d3fa5407-b137-4c70-ea55-36852e998c92",
        "colab": {
          "base_uri": "https://localhost:8080/",
          "height": 434
        }
      },
      "cell_type": "code",
      "source": [
        "import seaborn as sns\n",
        "\n",
        "# calculate the correlation matrix\n",
        "corr = data.corr()\n",
        "# seaborn의 heatmap 함수를 이용하여 heatmap 표현한다.\n",
        "sns.heatmap(corr)\n"
      ],
      "execution_count": 0,
      "outputs": [
        {
          "output_type": "execute_result",
          "data": {
            "text/plain": [
              "<matplotlib.axes._subplots.AxesSubplot at 0x7efee8ad3080>"
            ]
          },
          "metadata": {
            "tags": []
          },
          "execution_count": 30
        },
        {
          "output_type": "display_data",
          "data": {
            "image/png": "[encoded data removed]",
            "text/plain": [
              "<Figure size 576x396 with 2 Axes>"
            ]
          },
          "metadata": {
            "tags": []
          }
        }
      ]
    },
    {
      "metadata": {
        "id": "mRxAYA3xn7C1",
        "colab_type": "text"
      },
      "cell_type": "markdown",
      "source": [
        "### D. Z-변환을 적용하여 데이터 전처리를 수행하고, 위 B번의 통계적 특성의 변화를 확인하세요.\n",
        "\n",
        "$$\\quad$$\n",
        "\n",
        "분산은 1, 평균은 0이 되고 최대값과 최소값의 차이가 이전보다 줄어들었다."
      ]
    },
    {
      "metadata": {
        "id": "zqU3_lLwn-zF",
        "colab_type": "code",
        "outputId": "dac27b7b-aeef-46ef-8a5a-a0f4763a3f82",
        "colab": {
          "base_uri": "https://localhost:8080/",
          "height": 338
        }
      },
      "cell_type": "code",
      "source": [
        "# Z-변환\n",
        "std = data.std(axis=0)\n",
        "mean = data.mean(axis=0)\n",
        "transformed_data = (data-mean) / std\n",
        "\n",
        "# z-변환된 데이터의 통계적 특성을 출력한다.\n",
        "transformed_data.describe()"
      ],
      "execution_count": 0,
      "outputs": [
        {
          "output_type": "execute_result",
          "data": {
            "text/html": [
              "<div>\n",
              "<style scoped>\n",
              "    .dataframe tbody tr th:only-of-type {\n",
              "        vertical-align: middle;\n",
              "    }\n",
              "\n",
              "    .dataframe tbody tr th {\n",
              "        vertical-align: top;\n",
              "    }\n",
              "\n",
              "    .dataframe thead th {\n",
              "        text-align: right;\n",
              "    }\n",
              "</style>\n",
              "<table border=\"1\" class=\"dataframe\">\n",
              "  <thead>\n",
              "    <tr style=\"text-align: right;\">\n",
              "      <th></th>\n",
              "      <th>fixed acidity</th>\n",
              "      <th>volatile acidity</th>\n",
              "      <th>citric acid</th>\n",
              "      <th>residual sugar</th>\n",
              "      <th>chlorides</th>\n",
              "      <th>free sulfur dioxide</th>\n",
              "      <th>total sulfur dioxide</th>\n",
              "      <th>density</th>\n",
              "      <th>pH</th>\n",
              "      <th>sulphates</th>\n",
              "      <th>alcohol</th>\n",
              "      <th>quality</th>\n",
              "    </tr>\n",
              "  </thead>\n",
              "  <tbody>\n",
              "    <tr>\n",
              "      <th>count</th>\n",
              "      <td>1.599000e+03</td>\n",
              "      <td>1.599000e+03</td>\n",
              "      <td>1.599000e+03</td>\n",
              "      <td>1.599000e+03</td>\n",
              "      <td>1.599000e+03</td>\n",
              "      <td>1.599000e+03</td>\n",
              "      <td>1.599000e+03</td>\n",
              "      <td>1.599000e+03</td>\n",
              "      <td>1.599000e+03</td>\n",
              "      <td>1.599000e+03</td>\n",
              "      <td>1.599000e+03</td>\n",
              "      <td>1.599000e+03</td>\n",
              "    </tr>\n",
              "    <tr>\n",
              "      <th>mean</th>\n",
              "      <td>-1.570643e-14</td>\n",
              "      <td>-1.590973e-15</td>\n",
              "      <td>6.045057e-15</td>\n",
              "      <td>-1.344696e-15</td>\n",
              "      <td>5.098590e-15</td>\n",
              "      <td>-7.724347e-17</td>\n",
              "      <td>1.619856e-16</td>\n",
              "      <td>3.772732e-13</td>\n",
              "      <td>-5.937923e-15</td>\n",
              "      <td>-2.175036e-15</td>\n",
              "      <td>2.580411e-14</td>\n",
              "      <td>1.081756e-15</td>\n",
              "    </tr>\n",
              "    <tr>\n",
              "      <th>std</th>\n",
              "      <td>1.000000e+00</td>\n",
              "      <td>1.000000e+00</td>\n",
              "      <td>1.000000e+00</td>\n",
              "      <td>1.000000e+00</td>\n",
              "      <td>1.000000e+00</td>\n",
              "      <td>1.000000e+00</td>\n",
              "      <td>1.000000e+00</td>\n",
              "      <td>1.000000e+00</td>\n",
              "      <td>1.000000e+00</td>\n",
              "      <td>1.000000e+00</td>\n",
              "      <td>1.000000e+00</td>\n",
              "      <td>1.000000e+00</td>\n",
              "    </tr>\n",
              "    <tr>\n",
              "      <th>min</th>\n",
              "      <td>-2.136377e+00</td>\n",
              "      <td>-2.277567e+00</td>\n",
              "      <td>-1.391037e+00</td>\n",
              "      <td>-1.162333e+00</td>\n",
              "      <td>-1.603443e+00</td>\n",
              "      <td>-1.422055e+00</td>\n",
              "      <td>-1.230199e+00</td>\n",
              "      <td>-3.537625e+00</td>\n",
              "      <td>-3.699244e+00</td>\n",
              "      <td>-1.935902e+00</td>\n",
              "      <td>-1.898325e+00</td>\n",
              "      <td>-3.264143e+00</td>\n",
              "    </tr>\n",
              "    <tr>\n",
              "      <th>25%</th>\n",
              "      <td>-7.004996e-01</td>\n",
              "      <td>-7.696903e-01</td>\n",
              "      <td>-9.290275e-01</td>\n",
              "      <td>-4.530767e-01</td>\n",
              "      <td>-3.711129e-01</td>\n",
              "      <td>-8.484502e-01</td>\n",
              "      <td>-7.438076e-01</td>\n",
              "      <td>-6.075656e-01</td>\n",
              "      <td>-6.549356e-01</td>\n",
              "      <td>-6.380200e-01</td>\n",
              "      <td>-8.661079e-01</td>\n",
              "      <td>-7.875763e-01</td>\n",
              "    </tr>\n",
              "    <tr>\n",
              "      <th>50%</th>\n",
              "      <td>-2.410190e-01</td>\n",
              "      <td>-4.367545e-02</td>\n",
              "      <td>-5.634264e-02</td>\n",
              "      <td>-2.402999e-01</td>\n",
              "      <td>-1.798892e-01</td>\n",
              "      <td>-1.792441e-01</td>\n",
              "      <td>-2.574163e-01</td>\n",
              "      <td>1.759533e-03</td>\n",
              "      <td>-7.210449e-03</td>\n",
              "      <td>-2.250577e-01</td>\n",
              "      <td>-2.092427e-01</td>\n",
              "      <td>4.507074e-01</td>\n",
              "    </tr>\n",
              "    <tr>\n",
              "      <th>75%</th>\n",
              "      <td>5.056370e-01</td>\n",
              "      <td>6.264921e-01</td>\n",
              "      <td>7.650078e-01</td>\n",
              "      <td>4.340257e-02</td>\n",
              "      <td>5.382858e-02</td>\n",
              "      <td>4.899619e-01</td>\n",
              "      <td>4.721707e-01</td>\n",
              "      <td>5.766445e-01</td>\n",
              "      <td>5.757422e-01</td>\n",
              "      <td>4.238832e-01</td>\n",
              "      <td>6.352984e-01</td>\n",
              "      <td>4.507074e-01</td>\n",
              "    </tr>\n",
              "    <tr>\n",
              "      <th>max</th>\n",
              "      <td>4.353787e+00</td>\n",
              "      <td>5.876138e+00</td>\n",
              "      <td>3.742403e+00</td>\n",
              "      <td>9.192806e+00</td>\n",
              "      <td>1.112355e+01</td>\n",
              "      <td>5.365606e+00</td>\n",
              "      <td>7.372847e+00</td>\n",
              "      <td>3.678904e+00</td>\n",
              "      <td>4.526866e+00</td>\n",
              "      <td>7.916200e+00</td>\n",
              "      <td>4.201138e+00</td>\n",
              "      <td>2.927275e+00</td>\n",
              "    </tr>\n",
              "  </tbody>\n",
              "</table>\n",
              "</div>"
            ],
            "text/plain": [
              "       fixed acidity  volatile acidity   citric acid  residual sugar  \\\n",
              "count   1.599000e+03      1.599000e+03  1.599000e+03    1.599000e+03   \n",
              "mean   -1.570643e-14     -1.590973e-15  6.045057e-15   -1.344696e-15   \n",
              "std     1.000000e+00      1.000000e+00  1.000000e+00    1.000000e+00   \n",
              "min    -2.136377e+00     -2.277567e+00 -1.391037e+00   -1.162333e+00   \n",
              "25%    -7.004996e-01     -7.696903e-01 -9.290275e-01   -4.530767e-01   \n",
              "50%    -2.410190e-01     -4.367545e-02 -5.634264e-02   -2.402999e-01   \n",
              "75%     5.056370e-01      6.264921e-01  7.650078e-01    4.340257e-02   \n",
              "max     4.353787e+00      5.876138e+00  3.742403e+00    9.192806e+00   \n",
              "\n",
              "          chlorides  free sulfur dioxide  total sulfur dioxide       density  \\\n",
              "count  1.599000e+03         1.599000e+03          1.599000e+03  1.599000e+03   \n",
              "mean   5.098590e-15        -7.724347e-17          1.619856e-16  3.772732e-13   \n",
              "std    1.000000e+00         1.000000e+00          1.000000e+00  1.000000e+00   \n",
              "min   -1.603443e+00        -1.422055e+00         -1.230199e+00 -3.537625e+00   \n",
              "25%   -3.711129e-01        -8.484502e-01         -7.438076e-01 -6.075656e-01   \n",
              "50%   -1.798892e-01        -1.792441e-01         -2.574163e-01  1.759533e-03   \n",
              "75%    5.382858e-02         4.899619e-01          4.721707e-01  5.766445e-01   \n",
              "max    1.112355e+01         5.365606e+00          7.372847e+00  3.678904e+00   \n",
              "\n",
              "                 pH     sulphates       alcohol       quality  \n",
              "count  1.599000e+03  1.599000e+03  1.599000e+03  1.599000e+03  \n",
              "mean  -5.937923e-15 -2.175036e-15  2.580411e-14  1.081756e-15  \n",
              "std    1.000000e+00  1.000000e+00  1.000000e+00  1.000000e+00  \n",
              "min   -3.699244e+00 -1.935902e+00 -1.898325e+00 -3.264143e+00  \n",
              "25%   -6.549356e-01 -6.380200e-01 -8.661079e-01 -7.875763e-01  \n",
              "50%   -7.210449e-03 -2.250577e-01 -2.092427e-01  4.507074e-01  \n",
              "75%    5.757422e-01  4.238832e-01  6.352984e-01  4.507074e-01  \n",
              "max    4.526866e+00  7.916200e+00  4.201138e+00  2.927275e+00  "
            ]
          },
          "metadata": {
            "tags": []
          },
          "execution_count": 31
        }
      ]
    },
    {
      "metadata": {
        "id": "XODh_VGwn8AY",
        "colab_type": "text"
      },
      "cell_type": "markdown",
      "source": [
        "### E. 훈련 집합과 시험 집합을 7:3으로 구분하여 선형회귀 모델을 적용하여 와인의 질을 예측 분석해보세요.\n"
      ]
    },
    {
      "metadata": {
        "id": "-RgzwqsWn_RU",
        "colab_type": "code",
        "outputId": "b6e5fc06-bc7c-416e-c9a5-3d1df8afccef",
        "colab": {
          "base_uri": "https://localhost:8080/",
          "height": 252
        }
      },
      "cell_type": "code",
      "source": [
        "from sklearn.model_selection import train_test_split  \n",
        "from sklearn.linear_model import LinearRegression  \n",
        "from sklearn import metrics  \n",
        "\n",
        "# Features (Input data)\n",
        "X = transformed_data.iloc[:, :-1].values\n",
        "# Quality (Label)\n",
        "y = transformed_data.iloc[:, -1].values  \n",
        "\n",
        "# 데이터셋 7:3 구분\n",
        "X_train, X_test, y_train, y_test \\\n",
        "    = train_test_split(X, y, test_size=0.3, random_state=0)  \n",
        "\n",
        "# 선형회귀 모델 선언 및 훈련\n",
        "regressor = LinearRegression()  \n",
        "regressor.fit(X_train, y_train)  \n",
        "\n",
        "# 와인의 질 예측\n",
        "y_pred = regressor.predict(X_test)  \n",
        "\n",
        "\n",
        "# 예측 결과 일부 확인\n",
        "df = pd.DataFrame({'Actual': y_test, 'Predicted': y_pred}) \n",
        "print(df.head(10))\n",
        "\n",
        "# 예측 성능 평가\n",
        "print('Mean Absolute Error:', metrics.mean_absolute_error(y_test, y_pred))  \n",
        "print('Mean Squared Error:', metrics.mean_squared_error(y_test, y_pred))  \n",
        "print('Root Mean Squared Error:', \n",
        "       np.sqrt(metrics.mean_squared_error(y_test, y_pred))) "
      ],
      "execution_count": 0,
      "outputs": [
        {
          "output_type": "stream",
          "text": [
            "     Actual  Predicted\n",
            "0  0.450707   0.174550\n",
            "1 -0.787576  -0.735739\n",
            "2  1.688991   1.178979\n",
            "3  0.450707  -0.311460\n",
            "4 -0.787576   0.379328\n",
            "5  0.450707  -0.722407\n",
            "6 -0.787576  -0.274206\n",
            "7  0.450707   0.468524\n",
            "8 -2.025860  -0.978119\n",
            "9 -0.787576  -0.832669\n",
            "Mean Absolute Error: 0.6032004091429053\n",
            "Mean Squared Error: 0.6145350899845006\n",
            "Root Mean Squared Error: 0.7839228852281968\n"
          ],
          "name": "stdout"
        }
      ]
    }
  ]
}
