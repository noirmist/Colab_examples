{
  "nbformat": 4,
  "nbformat_minor": 0,
  "metadata": {
    "colab": {
      "name": "ML_homework3.ipynb",
      "version": "0.3.2",
      "provenance": [],
      "collapsed_sections": [],
      "toc_visible": true
    },
    "kernelspec": {
      "name": "python3",
      "display_name": "Python 3"
    }
  },
  "cells": [
    {
      "cell_type": "markdown",
      "metadata": {
        "id": "dKDJyY178ZiD",
        "colab_type": "text"
      },
      "source": [
        "$$\\quad$$\n",
        "\n",
        "이름: 최정우\n",
        "\n",
        "학번: M2018076\n",
        "\n",
        "Colab link: https://bit.ly/2XyhEO7"
      ]
    },
    {
      "cell_type": "markdown",
      "metadata": {
        "id": "e78OOAj2B0tm",
        "colab_type": "text"
      },
      "source": [
        "# [SVM; 40p] 선형적으로 분리가 가능한 경우, 다음을 증명하세요.\n"
      ]
    },
    {
      "cell_type": "markdown",
      "metadata": {
        "id": "aFYfpbp3FkCh",
        "colab_type": "text"
      },
      "source": [
        "## A. SVM의 원시 형태 (primal form) 해를 구하는 방법"
      ]
    },
    {
      "cell_type": "markdown",
      "metadata": {
        "id": "M5fimjM2F63m",
        "colab_type": "text"
      },
      "source": [
        "linear disciminant function $g(\\mathbf{x})= \\mathbf{w}^T\\mathbf{x}+b$\n",
        "\n",
        "$g(\\mathbf{x})$ is proportional to signed distance from $\\mathbf{x}$ to hyperplane\n",
        "\n",
        "scale $\\mathbf{w}$ and $\\mathbf{b}$ to get following hold:\n",
        "$$g(\\mathbf{x}_+) = +1$$\n",
        "$$g(\\mathbf{x}_\\_) = -1$$\n",
        "\n",
        "support vector : $\\mathbf{x}_\\_ ,~ \\mathbf{x}_+$\n",
        "\n",
        "the constraints are then\n",
        "\n",
        "$$g(\\mathbf{x}_t)= \\mathbf{w}^T\\mathbf{x}_t+b \\geq +1 \\quad for \\quad y_t = +1$$ \n",
        "$$g(\\mathbf{x}_t)= \\mathbf{w}^T\\mathbf{x}_t+b \\leq -1 \\quad for \\quad y_t = -1$$ \n",
        "\n",
        "these can be combined into\n",
        "$$y_t(\\mathbf{w}^T\\mathbf{x}_t+b) \\geq +1$$ \n",
        "\n",
        "support vectors\n",
        "$$\\{\\mathbf{x}_t|\\mathbf{w}^T\\mathbf{x}_t+b=\\pm1\\}$$\n",
        "\n",
        "distance$(r)$ from support vector to $H(\\mathbf{w},b)$\n",
        "\n",
        "$$r = {{\\mathbf{w}^T\\mathbf{x}_t+b}\\over{||\\mathbf{w}||}} = {{\\pm 1}\\over{||\\mathbf{w}||}}$$\n",
        "\n",
        "then, the margin is\n",
        "\n",
        "$$\\bigg{|}{{+ 1}\\over{||\\mathbf{w}||}} - {{- 1}\\over{||\\mathbf{w}||}}\\bigg{|} = {{2}\\over{||\\mathbf{w}||}}$$\n",
        "\n",
        "therefore, we want to minimize: $||\\mathbf{w}||$\n",
        "\n",
        "So, we can re-define SVM optimization problem below:\n",
        "\n",
        "SVM(primal) optimization problem\n",
        "\n",
        "$$minimize_{\\mathbf{w}} ~~ {{1}\\over{2}}||\\mathbf{w}||^2$$\n",
        "\n",
        "\n",
        "$$ subject~to ~~y_t(\\mathbf{w}^T\\mathbf{x}_t+b) \\geq 1, ~\\forall t \\in [1,N] $$\n",
        "\n",
        "this is a constrained optimization problem:\n",
        "\n",
        "*   convex quadratic programming\n",
        "*   linear inequality constraints\n",
        "*   $d+1$ parameters, N constraints\n",
        "\n",
        "note: $\\mathbf{x} \\in \\mathbb{R}^d, \\mathbf{w} \\in \\mathbb{R}^d, y \\in \\mathbb{R}, b \\in \\mathbb{R}$ , and $N$ training examples\n",
        "\n",
        "To use QP solver, we need to change SVM optimization problem to Quadratic programming form\n",
        "$$ \n",
        "\\mathbf{z} =  \n",
        "\\begin{bmatrix}\n",
        "b\\\\\n",
        "\\mathbf{w}\n",
        "\\end{bmatrix}\n",
        "\\in \\mathbb{R}^{d+1}\n",
        "$$\n",
        "\n",
        "$$\n",
        "{{1}\\over{2}} \\mathbf{w}^T \\mathbf{w} = \n",
        "\\begin{bmatrix}\n",
        "b & \\mathbf{w}^T\n",
        "\\end{bmatrix}\n",
        "\\begin{bmatrix}\n",
        "0 & 0 \\\\\n",
        "0 & I \\\\\n",
        "\\end{bmatrix}\n",
        "\\begin{bmatrix}\n",
        "b \\\\\n",
        "\\mathbf{w}^T\n",
        "\\end{bmatrix}\n",
        "= \\mathbf{z}^T\n",
        "\\begin{bmatrix}\n",
        "0 & 0 \\\\\n",
        "0 & I \\\\\n",
        "\\end{bmatrix}\n",
        "\\mathbf{z}\n",
        "$$\n",
        "\n",
        "$$\\therefore  Q = \n",
        "\\begin{bmatrix}\n",
        "0 & 0 \\\\\n",
        "0 & I \\\\\n",
        "\\end{bmatrix}\n",
        ",~ c = 0\n",
        "$$\n",
        "\n",
        "$$y_t(\\mathbf{w}^T\\mathbf{x}_t+b) \\geq 1 \\equiv \n",
        "\\begin{bmatrix}\n",
        "y_n & y_n\\mathbf{x}_n^T\n",
        "\\end{bmatrix}\n",
        "\\mathbf{z} \\geq 1\n",
        "$$\n",
        "\n",
        "$$ \\Rightarrow \n",
        "\\begin{bmatrix}\n",
        "y_1 & y_1\\mathbf{x}_1^T \\\\\n",
        "\\vdots & \\vdots \\\\\n",
        "y_n & y_n\\mathbf{x}_n^T \\\\\n",
        "\\end{bmatrix}\n",
        "\\mathbf{z} \\geq \n",
        "\\begin{bmatrix}\n",
        "1 \\\\\n",
        " \\vdots \\\\\n",
        "1\\\\\n",
        "\\end{bmatrix}\n",
        "$$\n",
        "\n",
        "$$\\therefore  A = \n",
        "\\begin{bmatrix}\n",
        "y_1 & y_1\\mathbf{x}_1^T \\\\\n",
        "\\vdots & \\vdots \\\\\n",
        "y_n & y_n\\mathbf{x}_n^T \\\\\n",
        "\\end{bmatrix}\n",
        ", ~\n",
        "a = \\begin{bmatrix}\n",
        "1 \\\\\n",
        " \\vdots \\\\\n",
        "1\\\\\n",
        "\\end{bmatrix}\n",
        "$$\n",
        "\n",
        "Using QP solver to get result\n",
        "$$\\mathbf{z}^* \\leftarrow QP(Q,c,A,a)$$"
      ]
    },
    {
      "cell_type": "markdown",
      "metadata": {
        "id": "t2fiH_pEEVH2",
        "colab_type": "text"
      },
      "source": [
        "## B. SVM의 이중 형태 (dual form) 해를 구하는 방법"
      ]
    },
    {
      "cell_type": "markdown",
      "metadata": {
        "id": "kFWYY_D2F-ic",
        "colab_type": "text"
      },
      "source": [
        "### Step1: compute Lagrangian function\n",
        "\n",
        "Given SVM(primal) optimization problem is\n",
        "\n",
        "$$ minimize_\\mathbf{w} ~~ {{1}\\over{2}}||\\mathbf{w}||^2$$\n",
        "$  $\n",
        "$$ subject~to ~~y_t(\\mathbf{w}^T\\mathbf{x}_t+b) \\geq 1, ~\\forall t \\in [1,N] $$\n",
        "\n",
        "this is a constrained optimization problem:\n",
        "\n",
        "*   convex quadratic programming\n",
        "*   linear inequality constraints\n",
        "*   $d+1$ parameters, N constraints\n",
        "\n",
        "note: $\\mathbf{x} \\in \\mathbb{R}^d, \\mathbf{w} \\in \\mathbb{R}^d, y \\in \\mathbb{R}, b \\in \\mathbb{R}$ , and $N$ training examples\n",
        "\n",
        "formulate uncontrained optimization using Lagrange multipliers\n",
        "\n",
        "Lagrangian function is\n",
        "\n",
        "$$\\mathcal{L}(\\mathbf{w}, b, \\boldsymbol\\alpha) = \n",
        "{{1}\\over{2}}||\\mathbf{w}||^2 - \\sum^{N}_{t=1} {\\alpha_t [y_t(\\mathbf{w}^T\\mathbf{x}_t+b)-1]}$$\n",
        "\n",
        "where $\\alpha_t \\leq 0$ are Lagrange multipliers (aka dual variables)\n",
        "\n",
        "The solution is determined by saddle point of Lagrangian $\\mathcal{L}$\n",
        "\n",
        "This solution is based on saddle point theorem:\n",
        "\n",
        "* let $P$ be a constrained optimization problem over $\\mathcal{W} = \\mathbb{R}^d$\n",
        "\n",
        "* if $(\\mathbf{w}^*, \\boldsymbol\\alpha^*)$ is saddle point of the associated Lagrangian: i.e., $\\forall \\mathbf{w} \\in \\mathbb{R}^d,~ \\forall \\boldsymbol \\alpha \\geq 0 ,~ \\mathcal{L}(\\mathbf{w}^*, \\boldsymbol\\alpha) \\leq \\mathcal{L}(\\mathbf{w}^*, \\boldsymbol\\alpha^*) \\leq \\mathcal{L}(\\mathbf{w}, \\boldsymbol\\alpha^*)$\n",
        "\n",
        "* then $(\\mathbf{w}^*, \\boldsymbol\\alpha^*)$ is a solution of the problem $P$\n",
        "\n",
        "thus, Lagrangian $\\mathcal{L}(\\mathbf{w}, b, \\boldsymbol\\alpha)$ should be\n",
        "\n",
        "* minimized with respect to $\\mathbf{w}$ and $b \\quad [\\mathcal{L}({\\color{red}{\\mathbf{w}^*}}, \\boldsymbol\\alpha^*) \\leq \\mathcal{L}({\\color{red}{\\mathbf{w}}}, \\boldsymbol\\alpha^*)]$\n",
        " \n",
        "* maximized with respect to $\\boldsymbol\\alpha \\quad [\\mathcal{L}(\\mathbf{w}^*, {\\color{red}{\\boldsymbol\\alpha}}) \\leq \\mathcal{L}(\\mathbf{w}^*, {\\color{red}{\\boldsymbol\\alpha^*}})]$"
      ]
    },
    {
      "cell_type": "markdown",
      "metadata": {
        "id": "CMQ67-zcmhLC",
        "colab_type": "text"
      },
      "source": [
        "### Step2: apply the Karush-Kuhn-Tucker (KKT) conditions\n",
        "\n",
        "Using KKT condition on Lagrangian function becomes the dual problem\n",
        "\n",
        "The dual problem requires only maximization with respect to $\\boldsymbol \\alpha$ subject to $\\boldsymbol \\alpha \\geq 0$\n",
        "\n",
        "KKT condition:\n",
        "express primal variables $\\mathbf{w}$ and $b$ in terms of dual variable $\\boldsymbol \\alpha$\n",
        "\n",
        "\\begin{align}\n",
        "condition~1:\\quad& {{\\partial\\mathcal{L}(\\mathbf{w}^*,b^*, \\boldsymbol \\alpha^*)}\\over{\\partial \\mathbf{w}}} = 0 \\\\\n",
        "condition~2:\\quad& {{\\partial\\mathcal{L}(\\mathbf{w}^*,b^*, \\boldsymbol \\alpha^*)}\\over{\\partial b}} = 0 \\\\\n",
        "condition~3:\\quad& \\alpha_t^*[y_t(\\mathbf{w}^{*T}\\mathbf{x}_t + b^*) - 1] = 0, ~ \\forall t \\in [1,N]\\\\\n",
        "\\end{align}\n",
        "\n",
        "Given Lagrangian function is\n",
        "\n",
        "$$ \\mathcal{L}(\\mathbf{w}, b, \\boldsymbol\\alpha) = \n",
        "{{1}\\over{2}}||\\mathbf{w}||^2 - \\sum^{N}_{t=1} {\\alpha_t [y_t(\\mathbf{w}^T\\mathbf{x}_t+b)-1]}\n",
        "$$\n",
        "\n",
        "From condition 1 & 2 :\n",
        "\n",
        "\\begin{align}\n",
        "&{{\\partial \\mathcal{L}}\\over{\\partial \\mathbf{w}}} = \\mathbf{w} - \\sum_{t=1}^{N} \\alpha_t y_t \\mathbf{x}_t = 0 & \\Rightarrow & \\quad \\mathbf{w}=\\sum_{t=1}^{N} \\alpha_t y_t \\mathbf{x}_t \\\\\n",
        "&{{\\partial \\mathcal{L}}\\over{\\partial \\mathbf{b}}} =  - \\sum_{t=1}^{N} \\alpha_t y_t = 0 & \\Rightarrow &  \\quad \\sum_{t=1}^{N} \\alpha_t y_t = 0 \\\\\n",
        "\\end{align}\n",
        "\n",
        "From condition 3:\n",
        "\n",
        "\\begin{align}\n",
        "\\alpha_t >0 &\\Rightarrow y_t(\\mathbf{w}^{T}\\mathbf{x}_t + b^) = 1\\\\\n",
        "y_t(\\mathbf{w}^{T}\\mathbf{x}_t + b) > 1&\\Rightarrow \\alpha_t =0 \\\\\n",
        "\\\\\n",
        "\\end{align}\n",
        "\n",
        "$$\\therefore \\mathbf{w} = \\sum_{t=1}^{N} \\alpha_t y_t \\mathbf{x}_t = \\sum_{t=1}^{N_s \\ll N} \\alpha_t y_t \\mathbf{x}_t$$\n",
        "$$cf. N_s: ~number~of~vectors~associated~with~ \\alpha_t >0$$"
      ]
    },
    {
      "cell_type": "markdown",
      "metadata": {
        "id": "tmw9MhXNmoQc",
        "colab_type": "text"
      },
      "source": [
        "### Step3: formulate dual problem\n",
        "Expand Lagrangian function:\n",
        "\n",
        "$$ \\mathcal{L} = \n",
        "{{1}\\over{2}}||\\mathbf{w}||^2 - \\sum^{N}_{t=1} {\\alpha_t y_t \\mathbf{w}^T\\mathbf{x}_t}+b\\sum^{N}_{t=1}{\\alpha_t y_t} +\\sum^{N}_{t=1}{\\alpha_t}\n",
        "$$\n",
        "\n",
        "\n",
        "$$ \\mathcal{L} = \n",
        "{{1}\\over{2}}||\\mathbf{w}||^2 - \\sum^{N}_{t=1} {\\alpha_t y_t \\mathbf{w}^T\\mathbf{x}_t}+\\sum^{N}_{t=1}{\\alpha_t}\n",
        "$$\n",
        "\n",
        "$$\n",
        "(\\because \\sum^{N}_{t=1}{\\alpha_t y_t} = 0)\n",
        "$$\n",
        "\n",
        "\\begin{align}\n",
        "\\mathcal{L} = &\n",
        "{{1}\\over{2}}||\\sum^{N}_{t=1} {\\alpha_t y_t \\mathbf{x}_t}||^2 - \\sum^{N}_{t=1} {\\alpha_t y_t \\bigg(\\sum^{N}_{s=1} {\\alpha_s y_s \\mathbf{x}_s} \\bigg)^T\\mathbf{x}_t}+\\sum^{N}_{t=1}{\\alpha_t} \\\\\n",
        " = &\n",
        "-{{1}\\over{2}} \\sum^{N}_{s=1} \\sum^{N}_{t=1} \\alpha_s \\alpha_t y_s y_t \\mathbf{x}_s^T\\mathbf{x}_t +\\sum^{N}_{t=1}{\\alpha_t} \\\\\n",
        "\\end{align}\n",
        "\n",
        "SVM (dual) optimization problem\n",
        "\\begin{align}\n",
        "{maximize}_\\alpha & \\quad \\sum^{N}_{t=1}{\\alpha_t} - {{1}\\over{2}} \\sum^{N}_{s=1} \\sum^{N}_{t=1} \\alpha_s \\alpha_t y_s y_t \\mathbf{x}_s^T\\mathbf{x}_t \\\\\n",
        "subject~to & \\quad \\sum^{N}_{t=1}{\\alpha_t y_t} = 0\\\\\n",
        "&\\quad \\alpha_t \\geq 0, ~ \\forall t \\in [1,N]\n",
        "\\end{align}"
      ]
    },
    {
      "cell_type": "markdown",
      "metadata": {
        "id": "KjygRzqCmqVQ",
        "colab_type": "text"
      },
      "source": [
        "### Step4: solve dual problem\n",
        "\n",
        "conversion of dual form for QP solver:\n",
        "\\begin{align}\n",
        "minimize_\\alpha &\\quad {{1}\\over{2}}\\boldsymbol \\alpha^T Q \\boldsymbol \\alpha - \\mathbf{1}^T \\boldsymbol \\alpha \\\\\n",
        "subject~to &\\quad -\\boldsymbol \\alpha \\leq 0\\\\\n",
        "&\\quad \\mathbf{y}^T \\boldsymbol \\alpha = 0\n",
        "\\end{align}\n",
        "\n",
        "where\n",
        "$$Q = \n",
        "\\begin{bmatrix}\n",
        "y_1 y_1 \\mathbf{x}_1^T \\mathbf{x}_1  & y_1 y_2 \\mathbf{x}_1^T \\mathbf{x}_2  &\\cdots  & y_1 y_N \\mathbf{x}_1^T \\mathbf{x}_N \\\\\n",
        "y_2 y_1 \\mathbf{x}_2^T \\mathbf{x}_1  & y_2 y_2 \\mathbf{x}_2^T \\mathbf{x}_2  &\\cdots  & y_2 y_N \\mathbf{x}_2^T \\mathbf{x}_N \\\\\n",
        "\\cdots &\\cdots &\\cdots & \\cdots \\\\\n",
        "y_N y_1 \\mathbf{x}_N^T \\mathbf{x}_1  & y_N y_2 \\mathbf{x}_N^T \\mathbf{x}_2  &\\cdots  & y_N y_N \\mathbf{x}_N^T \\mathbf{x}_N \\\\\n",
        "\\end{bmatrix}\n",
        "$$\n",
        "\n",
        "final form\n",
        "\n",
        "\\begin{align}\n",
        "minimize_\\alpha &\\quad {{1}\\over{2}}\\boldsymbol \\alpha^T \n",
        "\\begin{bmatrix}\n",
        "y_1 y_1 \\mathbf{x}_1^T \\mathbf{x}_1  & y_1 y_2 \\mathbf{x}_1^T \\mathbf{x}_2  &\\cdots  & y_1 y_N \\mathbf{x}_1^T \\mathbf{x}_N \\\\\n",
        "y_2 y_1 \\mathbf{x}_2^T \\mathbf{x}_1  & y_2 y_2 \\mathbf{x}_2^T \\mathbf{x}_2  &\\cdots  & y_2 y_N \\mathbf{x}_2^T \\mathbf{x}_N \\\\\n",
        "\\cdots &\\cdots &\\cdots & \\cdots \\\\\n",
        "y_N y_1 \\mathbf{x}_N^T \\mathbf{x}_1  & y_N y_2 \\mathbf{x}_N^T \\mathbf{x}_2  &\\cdots  & y_N y_N \\mathbf{x}_N^T \\mathbf{x}_N \\\\\n",
        "\\end{bmatrix}\n",
        "\\boldsymbol \\alpha - \\mathbf{1}^T \\boldsymbol \\alpha \\\\\n",
        "subject~to &\\quad \\mathbf{y}^T \\boldsymbol \\alpha = 0 \\quad (linear~constraint)\\\\\n",
        "&\\quad 0\\leq \\boldsymbol \\alpha \\leq \\infty \\quad (lower~and~upper~bounds)\\\\\n",
        "\\end{align}\n",
        "\n",
        "QP solver will return one $\\alpha$ per input point\n",
        "$$\\boldsymbol \\alpha = [\\alpha_1~\\alpha_2~\\cdots~\\alpha_N]^T$$"
      ]
    },
    {
      "cell_type": "markdown",
      "metadata": {
        "id": "oXA3ek4XmriR",
        "colab_type": "text"
      },
      "source": [
        "### Step5: complete the picture\n",
        "\n",
        "final solutions\n",
        "\n",
        "$\\boldsymbol \\alpha^*$: obtained by solving final form using QP solver\n",
        "\n",
        "$\\mathbf{w}^*:$ linear combination of input vectors in training data\n",
        "\n",
        "$$ \\mathbf{w}^* = \\sum_{t=1}^N \\alpha^*_t y_t \\mathbf{x}_t$$\n",
        "\n",
        "$b^*$: for any positive and negative support vector ($x_+$ and $x_-$) :\n",
        "\n",
        "$$ \\mathbf{w}^{*T} \\mathbf{x}_+ + b = +1$$\n",
        "$$ \\mathbf{w}^{*T} \\mathbf{x}_- + b = -1$$\n",
        "\n",
        "solving these equations gives\n",
        "\n",
        "$$ b^* = -{{1}\\over{2}}(\\mathbf{w}^{*T}\\mathbf{x}_+ + \\mathbf{w}^{*T}\\mathbf{x}_-)$$"
      ]
    },
    {
      "cell_type": "markdown",
      "metadata": {
        "id": "Mu7E_wjIGAuP",
        "colab_type": "text"
      },
      "source": [
        "# [kernel; 20p] 다음의 함수가 valid kernel 임을 보이세요."
      ]
    },
    {
      "cell_type": "markdown",
      "metadata": {
        "id": "GdORtkfzLeuD",
        "colab_type": "text"
      },
      "source": [
        "## A. 임의의 행렬 A 에 대한 $K(x,z) = x^TA^TAz$"
      ]
    },
    {
      "cell_type": "markdown",
      "metadata": {
        "id": "-QH8tcjXHovh",
        "colab_type": "text"
      },
      "source": [
        "### 풀이\n",
        "\n",
        "Kernal algebra에 의해서 \n",
        "$$K(\\mathbf{x},\\mathbf{v}) = \\mathbf{x}^T B \\mathbf{v},$$ \n",
        "\n",
        "<center>$\\quad \\quad ~~$When $B$ is positive semi-definite</center>\n",
        "\n",
        "따라서 $A^TA$ 가 positive semi-definite 라면 주어진 커널은 valid 한 커널이다.\n",
        "eigenvalue 의 정의에 의해\n",
        "\n",
        "$$ Ax = \\lambda x$$\n",
        "\\begin{align}\n",
        "A\\lambda x &= \\lambda (A x)\\\\\n",
        "& = \\lambda^2 x\\\\\n",
        "& = A^2x\n",
        "\\end{align}\n",
        "\n",
        "positive semi-definite 는 eigenvalue 의 모든값이 음수가 아닌경우이므로 \n",
        "$A^TA$의 모든 고유값은 음수가 아닌 값을 가지게된다.\n",
        "$$\\because A^2x = \\lambda^2 x$$\n",
        "\n",
        "따라서 주어진 $K(x,z) = x^TA^TAz$ 은 valid kernel이다.\n",
        "\n"
      ]
    },
    {
      "cell_type": "markdown",
      "metadata": {
        "id": "X0mEN69RLuAU",
        "colab_type": "text"
      },
      "source": [
        "## B. $K(x,z) = (x^Tz+c)^2$"
      ]
    },
    {
      "cell_type": "markdown",
      "metadata": {
        "id": "nEWgvecLjtDh",
        "colab_type": "text"
      },
      "source": [
        "### 풀이\n",
        "\n",
        "\\begin{align}\n",
        "K(\\mathbf{x}, \\mathbf{z}) & = \\bigg{(} \\sum^n_{j=1} x^{(j)} z^{(j)} + c\\bigg{)}  \\bigg{(} \\sum^n_{l=1} x^{(l)} z^{(l)} + c\\bigg{)} \\\\\n",
        "& = \\sum_{j=1}^{n}\\sum_{l=1}^{n} x^{(j)} x^{(l)} z^{(j)} z^{(l)} + 2c \\sum_{j=1}^{n} x^{(j)} z^{(j)} + c^2 \\\\\n",
        "& = \\sum_{j,l=1}^{n} (x^{(j)} x^{(l)}) (z^{(j)} z^{(l)}) + \\sum_{j=1}^{n} (\\sqrt{2c} x^{(j)})( \\sqrt{2c} z^{(j)}) + c^2 \\\\\n",
        "& = \\Phi(\\mathbf{x}) \\cdot \\Phi(\\mathbf{z})\n",
        "\\end{align}\n",
        "\n",
        "$$\\Phi(\\mathbf{x}) = [x^{(1)2}, x^{(1)}x^{(2)},~..., x^{(3)2}, \\sqrt{2c}x^{(1)}, \\sqrt{2c}x^{(2)}, \\sqrt{2c}x^{(3)}, c ] $$"
      ]
    },
    {
      "cell_type": "markdown",
      "metadata": {
        "id": "9Jdm1cjfHu2p",
        "colab_type": "text"
      },
      "source": [
        "# [HMM; 40p] \n",
        "## It is well known that a DNA sequence is a series of components from ${A, C, G, T}$. Now let’s assume there is one hidden variable $S$ that controls the generation of DNA sequence. $S$ takes 2 possible states $\\{S1, S2\\}$. Assume the following transition probabilities for HMM M $$P(S1|S1) = 0.8, P(S2|S1) = 0.2, P(S1|S2) = 0.2, P(S2|S2) = 0.8 $$emission probabilities as following $$P(A|S1) = 0.4, P(C|S1) = 0.1, P(G|S1) = 0.4, P(T|S1) = 0.1$$ $$P(A|S2) = 0.1, P(C|S2) = 0.4, P(G|S2) = 0.1, P(T|S2) = 0.4$$ and start probabilities as following $$P(S1) = 0.5, P(S2) = 0.5$$ Assume the observed sequence is $x = CGTCAG$, calculate:\n"
      ]
    },
    {
      "cell_type": "markdown",
      "metadata": {
        "id": "3KALuMkyOWQS",
        "colab_type": "text"
      },
      "source": [
        "## A. Draw the state diagram of this HMM M and mark the transition probabilities.\n",
        "\n"
      ]
    },
    {
      "cell_type": "code",
      "metadata": {
        "id": "vU0Xx3ebrTuN",
        "colab_type": "code",
        "outputId": "3cc6ee28-5cb6-418a-8e7d-fded84879e50",
        "colab": {
          "base_uri": "https://localhost:8080/",
          "height": 1540
        }
      },
      "source": [
        "# Install library\n",
        "!sudo apt-get install python-dev graphviz libgraphviz-dev pkg-config\n",
        "!pip install pygraphviz"
      ],
      "execution_count": 0,
      "outputs": [
        {
          "output_type": "stream",
          "text": [
            "Reading package lists... Done\n",
            "Building dependency tree       \n",
            "Reading state information... Done\n",
            "pkg-config is already the newest version (0.29.1-0ubuntu2).\n",
            "python-dev is already the newest version (2.7.15~rc1-1).\n",
            "graphviz is already the newest version (2.40.1-2).\n",
            "The following package was automatically installed and is no longer required:\n",
            "  libnvidia-common-410\n",
            "Use 'sudo apt autoremove' to remove it.\n",
            "The following additional packages will be installed:\n",
            "  libgail-common libgail18 libgtk2.0-0 libgtk2.0-bin libgtk2.0-common\n",
            "  libgvc6-plugins-gtk libxdot4\n",
            "Suggested packages:\n",
            "  gvfs\n",
            "The following NEW packages will be installed:\n",
            "  libgail-common libgail18 libgraphviz-dev libgtk2.0-0 libgtk2.0-bin\n",
            "  libgtk2.0-common libgvc6-plugins-gtk libxdot4\n",
            "0 upgraded, 8 newly installed, 0 to remove and 8 not upgraded.\n",
            "Need to get 2,120 kB of archives.\n",
            "After this operation, 7,128 kB of additional disk space will be used.\n",
            "Get:1 http://archive.ubuntu.com/ubuntu bionic/main amd64 libgtk2.0-common all 2.24.32-1ubuntu1 [125 kB]\n",
            "Get:2 http://archive.ubuntu.com/ubuntu bionic/main amd64 libgtk2.0-0 amd64 2.24.32-1ubuntu1 [1,769 kB]\n",
            "Get:3 http://archive.ubuntu.com/ubuntu bionic/main amd64 libgail18 amd64 2.24.32-1ubuntu1 [14.2 kB]\n",
            "Get:4 http://archive.ubuntu.com/ubuntu bionic/main amd64 libgail-common amd64 2.24.32-1ubuntu1 [112 kB]\n",
            "Get:5 http://archive.ubuntu.com/ubuntu bionic/universe amd64 libxdot4 amd64 2.40.1-2 [15.7 kB]\n",
            "Get:6 http://archive.ubuntu.com/ubuntu bionic/universe amd64 libgvc6-plugins-gtk amd64 2.40.1-2 [18.2 kB]\n",
            "Get:7 http://archive.ubuntu.com/ubuntu bionic/universe amd64 libgraphviz-dev amd64 2.40.1-2 [57.3 kB]\n",
            "Get:8 http://archive.ubuntu.com/ubuntu bionic/main amd64 libgtk2.0-bin amd64 2.24.32-1ubuntu1 [7,536 B]\n",
            "Fetched 2,120 kB in 6s (366 kB/s)\n",
            "debconf: unable to initialize frontend: Dialog\n",
            "debconf: (No usable dialog-like program is installed, so the dialog based frontend cannot be used. at /usr/share/perl5/Debconf/FrontEnd/Dialog.pm line 76, <> line 8.)\n",
            "debconf: falling back to frontend: Readline\n",
            "debconf: unable to initialize frontend: Readline\n",
            "debconf: (This frontend requires a controlling tty.)\n",
            "debconf: falling back to frontend: Teletype\n",
            "dpkg-preconfigure: unable to re-open stdin: \n",
            "Selecting previously unselected package libgtk2.0-common.\n",
            "(Reading database ... 130912 files and directories currently installed.)\n",
            "Preparing to unpack .../0-libgtk2.0-common_2.24.32-1ubuntu1_all.deb ...\n",
            "Unpacking libgtk2.0-common (2.24.32-1ubuntu1) ...\n",
            "Selecting previously unselected package libgtk2.0-0:amd64.\n",
            "Preparing to unpack .../1-libgtk2.0-0_2.24.32-1ubuntu1_amd64.deb ...\n",
            "Unpacking libgtk2.0-0:amd64 (2.24.32-1ubuntu1) ...\n",
            "Selecting previously unselected package libgail18:amd64.\n",
            "Preparing to unpack .../2-libgail18_2.24.32-1ubuntu1_amd64.deb ...\n",
            "Unpacking libgail18:amd64 (2.24.32-1ubuntu1) ...\n",
            "Selecting previously unselected package libgail-common:amd64.\n",
            "Preparing to unpack .../3-libgail-common_2.24.32-1ubuntu1_amd64.deb ...\n",
            "Unpacking libgail-common:amd64 (2.24.32-1ubuntu1) ...\n",
            "Selecting previously unselected package libxdot4.\n",
            "Preparing to unpack .../4-libxdot4_2.40.1-2_amd64.deb ...\n",
            "Unpacking libxdot4 (2.40.1-2) ...\n",
            "Selecting previously unselected package libgvc6-plugins-gtk.\n",
            "Preparing to unpack .../5-libgvc6-plugins-gtk_2.40.1-2_amd64.deb ...\n",
            "Unpacking libgvc6-plugins-gtk (2.40.1-2) ...\n",
            "Selecting previously unselected package libgraphviz-dev.\n",
            "Preparing to unpack .../6-libgraphviz-dev_2.40.1-2_amd64.deb ...\n",
            "Unpacking libgraphviz-dev (2.40.1-2) ...\n",
            "Selecting previously unselected package libgtk2.0-bin.\n",
            "Preparing to unpack .../7-libgtk2.0-bin_2.24.32-1ubuntu1_amd64.deb ...\n",
            "Unpacking libgtk2.0-bin (2.24.32-1ubuntu1) ...\n",
            "Setting up libgtk2.0-common (2.24.32-1ubuntu1) ...\n",
            "Setting up libxdot4 (2.40.1-2) ...\n",
            "Processing triggers for libc-bin (2.27-3ubuntu1) ...\n",
            "Processing triggers for man-db (2.8.3-2ubuntu0.1) ...\n",
            "Setting up libgtk2.0-0:amd64 (2.24.32-1ubuntu1) ...\n",
            "Setting up libgail18:amd64 (2.24.32-1ubuntu1) ...\n",
            "Setting up libgail-common:amd64 (2.24.32-1ubuntu1) ...\n",
            "Setting up libgvc6-plugins-gtk (2.40.1-2) ...\n",
            "Setting up libgraphviz-dev (2.40.1-2) ...\n",
            "Setting up libgtk2.0-bin (2.24.32-1ubuntu1) ...\n",
            "Processing triggers for libc-bin (2.27-3ubuntu1) ...\n",
            "Collecting pygraphviz\n",
            "\u001b[?25l  Downloading https://files.pythonhosted.org/packages/7e/b1/d6d849ddaf6f11036f9980d433f383d4c13d1ebcfc3cd09bc845bda7e433/pygraphviz-1.5.zip (117kB)\n",
            "\u001b[K     |████████████████████████████████| 122kB 5.1MB/s \n",
            "\u001b[?25hBuilding wheels for collected packages: pygraphviz\n",
            "  Building wheel for pygraphviz (setup.py) ... \u001b[?25l\u001b[?25hdone\n",
            "  Stored in directory: /root/.cache/pip/wheels/65/54/69/1aee9e66ab19916293208d4c9de0d3898adebe6b2eeff6476b\n",
            "Successfully built pygraphviz\n",
            "Installing collected packages: pygraphviz\n",
            "Successfully installed pygraphviz-1.5\n"
          ],
          "name": "stdout"
        }
      ]
    },
    {
      "cell_type": "code",
      "metadata": {
        "id": "z6ON4FJiTTCV",
        "colab_type": "code",
        "outputId": "bd420e92-3962-4c1a-c0c1-fd6d8f3d3981",
        "colab": {
          "base_uri": "https://localhost:8080/",
          "height": 432
        }
      },
      "source": [
        "import matplotlib.pyplot as plt\n",
        "from PIL import Image\n",
        "from networkx.drawing.nx_agraph import to_agraph \n",
        "\n",
        "import networkx as nx\n",
        "\n",
        "G = nx.MultiDiGraph()\n",
        "\n",
        "G.add_edge('S1', 'S1', 1, weight=0.8)\n",
        "G.add_edge('S1', 'S2', 2, weight=0.2)\n",
        "    \n",
        "G.add_edge('S2', 'S1', 3, weight=0.2)\n",
        "G.add_edge('S2', 'S2', 4, weight=0.8)\n",
        "\n",
        "G.add_edge('S1', 'A', weight=0.4)\n",
        "G.add_edge('S1', 'C', weight=0.1)\n",
        "G.add_edge('S1', 'G', weight=0.4)\n",
        "G.add_edge('S1', 'T', weight=0.1)\n",
        "\n",
        "G.add_edge('S2', 'A', weight=0.1)\n",
        "G.add_edge('S2', 'C', weight=0.4)\n",
        "G.add_edge('S2', 'G', weight=0.1)\n",
        "G.add_edge('S2', 'T', weight=0.4)\n",
        "\n",
        "A = to_agraph(G) \n",
        "A.layout('dot')      \n",
        "\n",
        "edge_lbs = nx.get_edge_attributes(G,'weight')\n",
        "graph = dict(((u, v), edge_lbs[u,v,k]) for u, v, k in edge_lbs)\n",
        "\n",
        "for pair in graph:\n",
        "    edge = A.get_edge(pair[0], pair[1])\n",
        "    edge.attr['label'] = str(graph[pair]) + \"  \"\n",
        "\n",
        "A.draw('HMM.png')\n",
        "img = Image.open('HMM.png')\n",
        "plt.figure(figsize=(10,10))\n",
        "plt.axis('off')\n",
        "plt.imshow(img)"
      ],
      "execution_count": 0,
      "outputs": [
        {
          "output_type": "execute_result",
          "data": {
            "text/plain": [
              "<matplotlib.image.AxesImage at 0x7f4f1d95f748>"
            ]
          },
          "metadata": {
            "tags": []
          },
          "execution_count": 27
        },
        {
          "output_type": "display_data",
          "data": {
            "image/png": "[encoded data removed]",
            "text/plain": [
              "<Figure size 720x720 with 1 Axes>"
            ]
          },
          "metadata": {
            "tags": []
          }
        }
      ]
    },
    {
      "cell_type": "markdown",
      "metadata": {
        "id": "o7Um-RobHgWA",
        "colab_type": "text"
      },
      "source": [
        "## B. P(x|M) using the forward algorithm. Show your work to get full credit.\n"
      ]
    },
    {
      "cell_type": "code",
      "metadata": {
        "id": "M6Ofvia25tYF",
        "colab_type": "code",
        "outputId": "2d0fe763-e641-4f10-e1c0-11153310f046",
        "colab": {
          "base_uri": "https://localhost:8080/",
          "height": 105
        }
      },
      "source": [
        "# Setup data for processing forward backward algorithm\n",
        "import numpy as np\n",
        "import pandas as pd\n",
        "import networkx as nx\n",
        "\n",
        "hidden_states = ['S1', 'S2']\n",
        "pi = [0.5, 0.5]\n",
        "state_space = pd.Series(pi, index=hidden_states, name='states')\n",
        "print(state_space)\n",
        "print('\\n', state_space.sum())"
      ],
      "execution_count": 0,
      "outputs": [
        {
          "output_type": "stream",
          "text": [
            "S1    0.5\n",
            "S2    0.5\n",
            "Name: states, dtype: float64\n",
            "\n",
            " 1.0\n"
          ],
          "name": "stdout"
        }
      ]
    },
    {
      "cell_type": "code",
      "metadata": {
        "id": "aKUQlSZB5_EX",
        "colab_type": "code",
        "outputId": "b10ce12b-940b-43f8-b0b3-1426293908d7",
        "colab": {
          "base_uri": "https://localhost:8080/",
          "height": 194
        }
      },
      "source": [
        "# create hidden transition matrix\n",
        "# a or alpha \n",
        "#   = transition probability matrix of changing states given a state\n",
        "# matrix is size (M x M) where M is number of states\n",
        "\n",
        "a_df = pd.DataFrame(columns=hidden_states, index=hidden_states)\n",
        "a_df.loc[hidden_states[0]] = [0.8, 0.2]\n",
        "a_df.loc[hidden_states[1]] = [0.2, 0.8]\n",
        "\n",
        "print(a_df)\n",
        "\n",
        "a = a_df.values\n",
        "print('\\n', a, a.shape, '\\n')\n",
        "print(a_df.sum(axis=1))"
      ],
      "execution_count": 0,
      "outputs": [
        {
          "output_type": "stream",
          "text": [
            "     S1   S2\n",
            "S1  0.8  0.2\n",
            "S2  0.2  0.8\n",
            "\n",
            " [[0.8 0.2]\n",
            " [0.2 0.8]] (2, 2) \n",
            "\n",
            "S1    1.0\n",
            "S2    1.0\n",
            "dtype: float64\n"
          ],
          "name": "stdout"
        }
      ]
    },
    {
      "cell_type": "code",
      "metadata": {
        "id": "OG6Q8aEU6P53",
        "colab_type": "code",
        "outputId": "6cc97128-40bb-4f43-96e6-eeabf19f09e6",
        "colab": {
          "base_uri": "https://localhost:8080/",
          "height": 194
        }
      },
      "source": [
        "states = ['A', 'C', 'G', 'T']\n",
        "observable_states = states\n",
        "\n",
        "b_df = pd.DataFrame(columns=observable_states, index=hidden_states)\n",
        "b_df.loc[hidden_states[0]] = [0.4, 0.1, 0.4, 0.1]\n",
        "b_df.loc[hidden_states[1]] = [0.1, 0.4, 0.1, 0.4]\n",
        "\n",
        "print(b_df)\n",
        "\n",
        "b = b_df.values\n",
        "print('\\n', b, b.shape, '\\n')\n",
        "print(b_df.sum(axis=1))"
      ],
      "execution_count": 0,
      "outputs": [
        {
          "output_type": "stream",
          "text": [
            "      A    C    G    T\n",
            "S1  0.4  0.1  0.4  0.1\n",
            "S2  0.1  0.4  0.1  0.4\n",
            "\n",
            " [[0.4 0.1 0.4 0.1]\n",
            " [0.1 0.4 0.1 0.4]] (2, 4) \n",
            "\n",
            "S1    1.0\n",
            "S2    1.0\n",
            "dtype: float64\n"
          ],
          "name": "stdout"
        }
      ]
    },
    {
      "cell_type": "code",
      "metadata": {
        "id": "0eN0T8t85WTI",
        "colab_type": "code",
        "outputId": "289645fb-d9cc-446c-f80d-7945506a63f9",
        "colab": {
          "base_uri": "https://localhost:8080/",
          "height": 141
        }
      },
      "source": [
        "obs_map = {'A':0, 'C':1, 'G':2, \"T\":3}\n",
        "obs = np.array([1,2,3,1,0,2])\n",
        "\n",
        "inv_obs_map = dict((v,k) for k, v in obs_map.items())\n",
        "obs_seq = [inv_obs_map[v] for v in list(obs)]\n",
        "\n",
        "print( pd.DataFrame(np.column_stack([obs, obs_seq]), \n",
        "                columns=['Obs_code', 'Obs_seq']) )"
      ],
      "execution_count": 0,
      "outputs": [
        {
          "output_type": "stream",
          "text": [
            "  Obs_code Obs_seq\n",
            "0        1       C\n",
            "1        2       G\n",
            "2        3       T\n",
            "3        1       C\n",
            "4        0       A\n",
            "5        2       G\n"
          ],
          "name": "stdout"
        }
      ]
    },
    {
      "cell_type": "code",
      "metadata": {
        "id": "_jPz44bX0Ho5",
        "colab_type": "code",
        "outputId": "901eb504-b565-4af5-d719-1a4745cb22e7",
        "colab": {
          "base_uri": "https://localhost:8080/",
          "height": 547
        }
      },
      "source": [
        "def forward(pi, a, b, obs):\n",
        "    \n",
        "    nStates = np.shape(b)[0]\n",
        "    T = np.shape(obs)[0]\n",
        "    \n",
        "    # alpha --> highest probability of any path that reaches state i\n",
        "    alpha = np.zeros((nStates, T))\n",
        "    \n",
        "    # init alpha and phi \n",
        "    alpha[:, 0] = pi * b[:, obs[0]]\n",
        "\n",
        "    print('\\nForward Algorithm Process\\n')    \n",
        "   \n",
        "    print('s={s} and t={t}: alpha[{s}, {t}] = {alpha}'.format(s=0, t=0, alpha=alpha[0, 0]))\n",
        "    print('s={s} and t={t}: alpha[{s}, {t}] = {alpha}'.format(s=1, t=0, alpha=alpha[1, 0]))\n",
        "\n",
        "    for t in range(1, T):\n",
        "        for s in range(nStates):\n",
        "            alpha[s, t] = np.sum(alpha[:, t-1]* a[:, s]) * b[s, obs[t]] \n",
        "            print('s={s} and t={t}: alpha[{s}, {t}] = {alpha}'.format(s=s, t=t, alpha=alpha[s, t]))\n",
        "\n",
        "    return alpha\n",
        "alpha = forward(pi, a, b, obs)\n",
        "print('\\n')\n",
        "df = (pd.DataFrame()\n",
        " .assign(alpha = ['t=1','t=2','t=3','t=4','t=5','t=6'])\n",
        " .assign(S1 = alpha[0])\n",
        " .assign(S2 = alpha[1]))\n",
        "display(df)\n",
        "print('\\tcf. P(x|M) = alpha')"
      ],
      "execution_count": 0,
      "outputs": [
        {
          "output_type": "stream",
          "text": [
            "\n",
            "Forward Algorithm Process\n",
            "\n",
            "s=0 and t=0: alpha[0, 0] = 0.05\n",
            "s=1 and t=0: alpha[1, 0] = 0.2\n",
            "s=0 and t=1: alpha[0, 1] = 0.03200000000000001\n",
            "s=1 and t=1: alpha[1, 1] = 0.017000000000000005\n",
            "s=0 and t=2: alpha[0, 2] = 0.002900000000000001\n",
            "s=1 and t=2: alpha[1, 2] = 0.008000000000000004\n",
            "s=0 and t=3: alpha[0, 3] = 0.0003920000000000002\n",
            "s=1 and t=3: alpha[1, 3] = 0.0027920000000000015\n",
            "s=0 and t=4: alpha[0, 4] = 0.00034880000000000024\n",
            "s=1 and t=4: alpha[1, 4] = 0.00023120000000000017\n",
            "s=0 and t=5: alpha[0, 5] = 0.0001301120000000001\n",
            "s=1 and t=5: alpha[1, 5] = 2.5472000000000023e-05\n",
            "\n",
            "\n"
          ],
          "name": "stdout"
        },
        {
          "output_type": "display_data",
          "data": {
            "text/html": [
              "<div>\n",
              "<style scoped>\n",
              "    .dataframe tbody tr th:only-of-type {\n",
              "        vertical-align: middle;\n",
              "    }\n",
              "\n",
              "    .dataframe tbody tr th {\n",
              "        vertical-align: top;\n",
              "    }\n",
              "\n",
              "    .dataframe thead th {\n",
              "        text-align: right;\n",
              "    }\n",
              "</style>\n",
              "<table border=\"1\" class=\"dataframe\">\n",
              "  <thead>\n",
              "    <tr style=\"text-align: right;\">\n",
              "      <th></th>\n",
              "      <th>alpha</th>\n",
              "      <th>S1</th>\n",
              "      <th>S2</th>\n",
              "    </tr>\n",
              "  </thead>\n",
              "  <tbody>\n",
              "    <tr>\n",
              "      <th>0</th>\n",
              "      <td>t=1</td>\n",
              "      <td>0.050000</td>\n",
              "      <td>0.200000</td>\n",
              "    </tr>\n",
              "    <tr>\n",
              "      <th>1</th>\n",
              "      <td>t=2</td>\n",
              "      <td>0.032000</td>\n",
              "      <td>0.017000</td>\n",
              "    </tr>\n",
              "    <tr>\n",
              "      <th>2</th>\n",
              "      <td>t=3</td>\n",
              "      <td>0.002900</td>\n",
              "      <td>0.008000</td>\n",
              "    </tr>\n",
              "    <tr>\n",
              "      <th>3</th>\n",
              "      <td>t=4</td>\n",
              "      <td>0.000392</td>\n",
              "      <td>0.002792</td>\n",
              "    </tr>\n",
              "    <tr>\n",
              "      <th>4</th>\n",
              "      <td>t=5</td>\n",
              "      <td>0.000349</td>\n",
              "      <td>0.000231</td>\n",
              "    </tr>\n",
              "    <tr>\n",
              "      <th>5</th>\n",
              "      <td>t=6</td>\n",
              "      <td>0.000130</td>\n",
              "      <td>0.000025</td>\n",
              "    </tr>\n",
              "  </tbody>\n",
              "</table>\n",
              "</div>"
            ],
            "text/plain": [
              "  alpha        S1        S2\n",
              "0   t=1  0.050000  0.200000\n",
              "1   t=2  0.032000  0.017000\n",
              "2   t=3  0.002900  0.008000\n",
              "3   t=4  0.000392  0.002792\n",
              "4   t=5  0.000349  0.000231\n",
              "5   t=6  0.000130  0.000025"
            ]
          },
          "metadata": {
            "tags": []
          }
        },
        {
          "output_type": "stream",
          "text": [
            "\tcf. P(x|M) = alpha\n"
          ],
          "name": "stdout"
        }
      ]
    },
    {
      "cell_type": "markdown",
      "metadata": {
        "id": "DL_ou_XXOfHE",
        "colab_type": "text"
      },
      "source": [
        "## C. The posterior probabilities $P(\\pi_i = S1|x, M)$ for $i = 1, . . . , 6$. Show your work to get full credit.\n",
        "\n"
      ]
    },
    {
      "cell_type": "code",
      "metadata": {
        "id": "BxzYNTMt0LgW",
        "colab_type": "code",
        "outputId": "36a7b47a-b436-4343-aa28-8037db6e1a04",
        "colab": {
          "base_uri": "https://localhost:8080/",
          "height": 767
        }
      },
      "source": [
        "def backward(pi, a, b, obs):\n",
        "    \n",
        "    nStates = np.shape(b)[0]\n",
        "    T = np.shape(obs)[0]\n",
        "    \n",
        "    # alpha --> highest probability of any path that reaches state i\n",
        "    alpha = np.zeros((nStates, T))\n",
        "    \n",
        "    # init alpha and phi \n",
        "    alpha[:, 0] = pi * b[:, obs[0]]\n",
        "\n",
        "    # Forward Algorithm Process\n",
        "    for t in range(1, T):\n",
        "        for s in range(nStates):\n",
        "            alpha[s, t] = np.sum(alpha[:, t-1]* a[:, s]) * b[s, obs[t]] \n",
        "    \n",
        "\n",
        "    # Backward Algorithm Process\n",
        "    beta = np.ones((nStates, T))\n",
        "    print('s={s} and t={t}: beta[{s}, {t}] = {beta}'.format(s=0, t=5, beta=beta[s, t]))\n",
        "    print('s={s} and t={t}: beta[{s}, {t}] = {beta}'.format(s=1, t=5, beta=beta[s, t]))\n",
        "    \n",
        "    for i, t in enumerate(range(T-2, -1, -1)):\n",
        "        for s in range(nStates):\n",
        "            beta[s,t] = np.sum(beta[:, t+1]* a[:, s] * b[:, obs[t+1]])\n",
        "            print('s={s} and t={t}: beta[{s}, {t}] = {beta}'.format(s=s, t=t, beta=beta[s, t]))\n",
        "\n",
        "    total = np.sum(alpha[:, 0]*beta[:, 0])\n",
        "    P = alpha[0,:]*beta[0,:]/total\n",
        "    return beta, P\n",
        "\n",
        "beta, P = backward(pi, a, b, obs)\n",
        "\n",
        "print('\\n\\n')\n",
        "df = (pd.DataFrame()\n",
        " .assign(beta=['t=1','t=2','t=3','t=4','t=5','t=6'])\n",
        " .assign(S1=beta[0])\n",
        " .assign(S2=beta[1]))\n",
        "display(df)\n",
        "print('\\tcf. beta = P(O_t+1,...,O_T|S_i)')\n",
        "print('\\n Posterior')\n",
        "df = (pd.DataFrame()\n",
        " .assign(P_S1=['t=1','t=2','t=3','t=4','t=5','t=6'])\n",
        " .assign(S1=P))\n",
        "display(df)\n",
        "print('\\tcf. P_S1= P(pi_1 = S1| x,M)')"
      ],
      "execution_count": 0,
      "outputs": [
        {
          "output_type": "stream",
          "text": [
            "s=0 and t=5: beta[0, 5] = 1.0\n",
            "s=1 and t=5: beta[1, 5] = 1.0\n",
            "s=0 and t=4: beta[0, 4] = 0.3400000000000001\n",
            "s=1 and t=4: beta[1, 4] = 0.16000000000000003\n",
            "s=0 and t=3: beta[0, 3] = 0.11200000000000003\n",
            "s=1 and t=3: beta[1, 3] = 0.040000000000000015\n",
            "s=0 and t=2: beta[0, 2] = 0.012160000000000004\n",
            "s=1 and t=2: beta[1, 2] = 0.015040000000000006\n",
            "s=0 and t=1: beta[0, 1] = 0.002176000000000001\n",
            "s=1 and t=1: beta[1, 1] = 0.005056000000000002\n",
            "s=0 and t=0: beta[0, 0] = 0.0007974400000000004\n",
            "s=1 and t=0: beta[1, 0] = 0.0005785600000000003\n",
            "\n",
            "\n",
            "\n"
          ],
          "name": "stdout"
        },
        {
          "output_type": "display_data",
          "data": {
            "text/html": [
              "<div>\n",
              "<style scoped>\n",
              "    .dataframe tbody tr th:only-of-type {\n",
              "        vertical-align: middle;\n",
              "    }\n",
              "\n",
              "    .dataframe tbody tr th {\n",
              "        vertical-align: top;\n",
              "    }\n",
              "\n",
              "    .dataframe thead th {\n",
              "        text-align: right;\n",
              "    }\n",
              "</style>\n",
              "<table border=\"1\" class=\"dataframe\">\n",
              "  <thead>\n",
              "    <tr style=\"text-align: right;\">\n",
              "      <th></th>\n",
              "      <th>beta</th>\n",
              "      <th>S1</th>\n",
              "      <th>S2</th>\n",
              "    </tr>\n",
              "  </thead>\n",
              "  <tbody>\n",
              "    <tr>\n",
              "      <th>0</th>\n",
              "      <td>t=1</td>\n",
              "      <td>0.000797</td>\n",
              "      <td>0.000579</td>\n",
              "    </tr>\n",
              "    <tr>\n",
              "      <th>1</th>\n",
              "      <td>t=2</td>\n",
              "      <td>0.002176</td>\n",
              "      <td>0.005056</td>\n",
              "    </tr>\n",
              "    <tr>\n",
              "      <th>2</th>\n",
              "      <td>t=3</td>\n",
              "      <td>0.012160</td>\n",
              "      <td>0.015040</td>\n",
              "    </tr>\n",
              "    <tr>\n",
              "      <th>3</th>\n",
              "      <td>t=4</td>\n",
              "      <td>0.112000</td>\n",
              "      <td>0.040000</td>\n",
              "    </tr>\n",
              "    <tr>\n",
              "      <th>4</th>\n",
              "      <td>t=5</td>\n",
              "      <td>0.340000</td>\n",
              "      <td>0.160000</td>\n",
              "    </tr>\n",
              "    <tr>\n",
              "      <th>5</th>\n",
              "      <td>t=6</td>\n",
              "      <td>1.000000</td>\n",
              "      <td>1.000000</td>\n",
              "    </tr>\n",
              "  </tbody>\n",
              "</table>\n",
              "</div>"
            ],
            "text/plain": [
              "  beta        S1        S2\n",
              "0  t=1  0.000797  0.000579\n",
              "1  t=2  0.002176  0.005056\n",
              "2  t=3  0.012160  0.015040\n",
              "3  t=4  0.112000  0.040000\n",
              "4  t=5  0.340000  0.160000\n",
              "5  t=6  1.000000  1.000000"
            ]
          },
          "metadata": {
            "tags": []
          }
        },
        {
          "output_type": "stream",
          "text": [
            "\tcf. beta = P(O_t+1,...,O_T|S_i)\n",
            "\n",
            " Posterior\n"
          ],
          "name": "stdout"
        },
        {
          "output_type": "display_data",
          "data": {
            "text/html": [
              "<div>\n",
              "<style scoped>\n",
              "    .dataframe tbody tr th:only-of-type {\n",
              "        vertical-align: middle;\n",
              "    }\n",
              "\n",
              "    .dataframe tbody tr th {\n",
              "        vertical-align: top;\n",
              "    }\n",
              "\n",
              "    .dataframe thead th {\n",
              "        text-align: right;\n",
              "    }\n",
              "</style>\n",
              "<table border=\"1\" class=\"dataframe\">\n",
              "  <thead>\n",
              "    <tr style=\"text-align: right;\">\n",
              "      <th></th>\n",
              "      <th>P_S1</th>\n",
              "      <th>S1</th>\n",
              "    </tr>\n",
              "  </thead>\n",
              "  <tbody>\n",
              "    <tr>\n",
              "      <th>0</th>\n",
              "      <td>t=1</td>\n",
              "      <td>0.256273</td>\n",
              "    </tr>\n",
              "    <tr>\n",
              "      <th>1</th>\n",
              "      <td>t=2</td>\n",
              "      <td>0.447552</td>\n",
              "    </tr>\n",
              "    <tr>\n",
              "      <th>2</th>\n",
              "      <td>t=3</td>\n",
              "      <td>0.226656</td>\n",
              "    </tr>\n",
              "    <tr>\n",
              "      <th>3</th>\n",
              "      <td>t=4</td>\n",
              "      <td>0.282188</td>\n",
              "    </tr>\n",
              "    <tr>\n",
              "      <th>4</th>\n",
              "      <td>t=5</td>\n",
              "      <td>0.762238</td>\n",
              "    </tr>\n",
              "    <tr>\n",
              "      <th>5</th>\n",
              "      <td>t=6</td>\n",
              "      <td>0.836281</td>\n",
              "    </tr>\n",
              "  </tbody>\n",
              "</table>\n",
              "</div>"
            ],
            "text/plain": [
              "  P_S1        S1\n",
              "0  t=1  0.256273\n",
              "1  t=2  0.447552\n",
              "2  t=3  0.226656\n",
              "3  t=4  0.282188\n",
              "4  t=5  0.762238\n",
              "5  t=6  0.836281"
            ]
          },
          "metadata": {
            "tags": []
          }
        },
        {
          "output_type": "stream",
          "text": [
            "\tcf. P_S1= P(pi_1 = S1| x,M)\n"
          ],
          "name": "stdout"
        }
      ]
    },
    {
      "cell_type": "markdown",
      "metadata": {
        "id": "2lxCQgKsOjXh",
        "colab_type": "text"
      },
      "source": [
        "## D. The most likely path of hidden states using the Viterbi algorithm. Show your work to get full credit."
      ]
    },
    {
      "cell_type": "code",
      "metadata": {
        "id": "s5-P4Qgq0OtJ",
        "colab_type": "code",
        "outputId": "0a22fb48-cdae-47f6-a999-9d4dd1adbfc5",
        "colab": {
          "base_uri": "https://localhost:8080/",
          "height": 796
        }
      },
      "source": [
        "def viterbi(pi, a, b, obs):\n",
        "    \n",
        "    nStates = np.shape(b)[0]\n",
        "    T = np.shape(obs)[0]\n",
        "    \n",
        "    # init blank path\n",
        "    path = np.zeros(T)\n",
        "    # delta --> highest probability of any path that reaches state i\n",
        "    delta = np.zeros((nStates, T))\n",
        "    # phi --> argmax by time step for each state\n",
        "    phi = np.zeros((nStates, T))\n",
        "    \n",
        "    # init delta and phi \n",
        "    delta[:, 0] = pi * b[:, obs[0]]\n",
        "    phi[:, 0] = 0\n",
        "\n",
        "    print('\\nStart Walk Forward\\n')    \n",
        "    # the forward algorithm extension\n",
        "    for t in range(1, T):\n",
        "        for s in range(nStates):\n",
        "            delta[s, t] = np.max(delta[:, t-1] * a[:, s]) * b[s, obs[t]] \n",
        "            phi[s, t] = np.argmax(delta[:, t-1] * a[:, s])\n",
        "            print('s={s} and t={t}: phi[{s}, {t}] = {phi}'.format(s=s, t=t, phi=phi[s, t]))\n",
        "    \n",
        "    # find optimal path\n",
        "    print('-'*50)\n",
        "    print('Start Backtrace\\n')\n",
        "    path[T-1] = np.argmax(delta[:, T-1])\n",
        "    \n",
        "    for t in range(T-2, -1, -1):\n",
        "        path[t] = phi[int(path[t+1]), [t+1]]\n",
        "        print('path[{}] = {}'.format(t, path[t]))\n",
        "        \n",
        "    return path, delta, phi\n",
        "\n",
        "path, delta, phi = viterbi(pi, a, b, obs)\n",
        "print('\\nsingle best state path: \\n', path)\n",
        "print('delta:\\n', delta)\n",
        "print('phi:\\n', phi)\n",
        "df = (pd.DataFrame()\n",
        " .assign(delta=['t=1','t=2','t=3','t=4','t=5','t=6'])\n",
        " .assign(S1=delta[0])\n",
        " .assign(S2=delta[1]))\n",
        "display(df)"
      ],
      "execution_count": 38,
      "outputs": [
        {
          "output_type": "stream",
          "text": [
            "\n",
            "Start Walk Forward\n",
            "\n",
            "s=0 and t=1: phi[0, 1] = 0.0\n",
            "s=1 and t=1: phi[1, 1] = 1.0\n",
            "s=0 and t=2: phi[0, 2] = 0.0\n",
            "s=1 and t=2: phi[1, 2] = 1.0\n",
            "s=0 and t=3: phi[0, 3] = 0.0\n",
            "s=1 and t=3: phi[1, 3] = 1.0\n",
            "s=0 and t=4: phi[0, 4] = 1.0\n",
            "s=1 and t=4: phi[1, 4] = 1.0\n",
            "s=0 and t=5: phi[0, 5] = 0.0\n",
            "s=1 and t=5: phi[1, 5] = 1.0\n",
            "--------------------------------------------------\n",
            "Start Backtrace\n",
            "\n",
            "path[4] = 0.0\n",
            "path[3] = 1.0\n",
            "path[2] = 1.0\n",
            "path[1] = 1.0\n",
            "path[0] = 1.0\n",
            "\n",
            "single best state path: \n",
            " [1. 1. 1. 1. 0. 0.]\n",
            "delta:\n",
            " [[5.000000e-02 1.600000e-02 1.280000e-03 1.024000e-04 1.310720e-04\n",
            "  4.194304e-05]\n",
            " [2.000000e-01 1.600000e-02 5.120000e-03 1.638400e-03 1.310720e-04\n",
            "  1.048576e-05]]\n",
            "phi:\n",
            " [[0. 0. 0. 0. 1. 0.]\n",
            " [0. 1. 1. 1. 1. 1.]]\n"
          ],
          "name": "stdout"
        },
        {
          "output_type": "display_data",
          "data": {
            "text/html": [
              "<div>\n",
              "<style scoped>\n",
              "    .dataframe tbody tr th:only-of-type {\n",
              "        vertical-align: middle;\n",
              "    }\n",
              "\n",
              "    .dataframe tbody tr th {\n",
              "        vertical-align: top;\n",
              "    }\n",
              "\n",
              "    .dataframe thead th {\n",
              "        text-align: right;\n",
              "    }\n",
              "</style>\n",
              "<table border=\"1\" class=\"dataframe\">\n",
              "  <thead>\n",
              "    <tr style=\"text-align: right;\">\n",
              "      <th></th>\n",
              "      <th>delta</th>\n",
              "      <th>S1</th>\n",
              "      <th>S2</th>\n",
              "    </tr>\n",
              "  </thead>\n",
              "  <tbody>\n",
              "    <tr>\n",
              "      <th>0</th>\n",
              "      <td>t=1</td>\n",
              "      <td>0.050000</td>\n",
              "      <td>0.200000</td>\n",
              "    </tr>\n",
              "    <tr>\n",
              "      <th>1</th>\n",
              "      <td>t=2</td>\n",
              "      <td>0.016000</td>\n",
              "      <td>0.016000</td>\n",
              "    </tr>\n",
              "    <tr>\n",
              "      <th>2</th>\n",
              "      <td>t=3</td>\n",
              "      <td>0.001280</td>\n",
              "      <td>0.005120</td>\n",
              "    </tr>\n",
              "    <tr>\n",
              "      <th>3</th>\n",
              "      <td>t=4</td>\n",
              "      <td>0.000102</td>\n",
              "      <td>0.001638</td>\n",
              "    </tr>\n",
              "    <tr>\n",
              "      <th>4</th>\n",
              "      <td>t=5</td>\n",
              "      <td>0.000131</td>\n",
              "      <td>0.000131</td>\n",
              "    </tr>\n",
              "    <tr>\n",
              "      <th>5</th>\n",
              "      <td>t=6</td>\n",
              "      <td>0.000042</td>\n",
              "      <td>0.000010</td>\n",
              "    </tr>\n",
              "  </tbody>\n",
              "</table>\n",
              "</div>"
            ],
            "text/plain": [
              "  delta        S1        S2\n",
              "0   t=1  0.050000  0.200000\n",
              "1   t=2  0.016000  0.016000\n",
              "2   t=3  0.001280  0.005120\n",
              "3   t=4  0.000102  0.001638\n",
              "4   t=5  0.000131  0.000131\n",
              "5   t=6  0.000042  0.000010"
            ]
          },
          "metadata": {
            "tags": []
          }
        }
      ]
    },
    {
      "cell_type": "code",
      "metadata": {
        "id": "qrF67HJA8xip",
        "colab_type": "code",
        "outputId": "895bd6c1-5428-4480-a401-5cc008eff64b",
        "colab": {
          "base_uri": "https://localhost:8080/",
          "height": 227
        }
      },
      "source": [
        "state_map = {0:'S1', 1:'S2'}\n",
        "state_path = [state_map[v] for v in path]\n",
        "\n",
        "(pd.DataFrame()\n",
        " .assign(Observation=obs_seq)\n",
        " .assign(Best_Path=state_path))"
      ],
      "execution_count": 0,
      "outputs": [
        {
          "output_type": "execute_result",
          "data": {
            "text/html": [
              "<div>\n",
              "<style scoped>\n",
              "    .dataframe tbody tr th:only-of-type {\n",
              "        vertical-align: middle;\n",
              "    }\n",
              "\n",
              "    .dataframe tbody tr th {\n",
              "        vertical-align: top;\n",
              "    }\n",
              "\n",
              "    .dataframe thead th {\n",
              "        text-align: right;\n",
              "    }\n",
              "</style>\n",
              "<table border=\"1\" class=\"dataframe\">\n",
              "  <thead>\n",
              "    <tr style=\"text-align: right;\">\n",
              "      <th></th>\n",
              "      <th>Observation</th>\n",
              "      <th>Best_Path</th>\n",
              "    </tr>\n",
              "  </thead>\n",
              "  <tbody>\n",
              "    <tr>\n",
              "      <th>0</th>\n",
              "      <td>C</td>\n",
              "      <td>S2</td>\n",
              "    </tr>\n",
              "    <tr>\n",
              "      <th>1</th>\n",
              "      <td>G</td>\n",
              "      <td>S2</td>\n",
              "    </tr>\n",
              "    <tr>\n",
              "      <th>2</th>\n",
              "      <td>T</td>\n",
              "      <td>S2</td>\n",
              "    </tr>\n",
              "    <tr>\n",
              "      <th>3</th>\n",
              "      <td>C</td>\n",
              "      <td>S2</td>\n",
              "    </tr>\n",
              "    <tr>\n",
              "      <th>4</th>\n",
              "      <td>A</td>\n",
              "      <td>S1</td>\n",
              "    </tr>\n",
              "    <tr>\n",
              "      <th>5</th>\n",
              "      <td>G</td>\n",
              "      <td>S1</td>\n",
              "    </tr>\n",
              "  </tbody>\n",
              "</table>\n",
              "</div>"
            ],
            "text/plain": [
              "  Observation Best_Path\n",
              "0           C        S2\n",
              "1           G        S2\n",
              "2           T        S2\n",
              "3           C        S2\n",
              "4           A        S1\n",
              "5           G        S1"
            ]
          },
          "metadata": {
            "tags": []
          },
          "execution_count": 35
        }
      ]
    }
  ]
}